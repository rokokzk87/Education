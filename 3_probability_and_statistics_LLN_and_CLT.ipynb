{
  "nbformat": 4,
  "nbformat_minor": 0,
  "metadata": {
    "colab": {
      "name": "3-probability-and-statistics-LLN-and-CLT.ipynb",
      "provenance": [],
      "collapsed_sections": [],
      "include_colab_link": true
    },
    "kernelspec": {
      "name": "python3",
      "display_name": "Python 3"
    },
    "language_info": {
      "name": "python"
    },
    "widgets": {
      "application/vnd.jupyter.widget-state+json": {
        "11e10f2e07b24abb9df24df4d36e7db1": {
          "model_module": "@jupyter-widgets/controls",
          "model_name": "HBoxModel",
          "model_module_version": "1.5.0",
          "state": {
            "_view_name": "HBoxView",
            "_dom_classes": [],
            "_model_name": "HBoxModel",
            "_view_module": "@jupyter-widgets/controls",
            "_model_module_version": "1.5.0",
            "_view_count": null,
            "_view_module_version": "1.5.0",
            "box_style": "",
            "layout": "IPY_MODEL_131f63d70cb84cdc8a0c88e16a5458e0",
            "_model_module": "@jupyter-widgets/controls",
            "children": [
              "IPY_MODEL_c4c2cf0ec17e44118c90d594251cdd2a",
              "IPY_MODEL_d24fbf94fa724211be7883265442bfa6",
              "IPY_MODEL_e35b50e8b6574b40acca7d2801747813"
            ]
          }
        },
        "131f63d70cb84cdc8a0c88e16a5458e0": {
          "model_module": "@jupyter-widgets/base",
          "model_name": "LayoutModel",
          "model_module_version": "1.2.0",
          "state": {
            "_view_name": "LayoutView",
            "grid_template_rows": null,
            "right": null,
            "justify_content": null,
            "_view_module": "@jupyter-widgets/base",
            "overflow": null,
            "_model_module_version": "1.2.0",
            "_view_count": null,
            "flex_flow": null,
            "width": null,
            "min_width": null,
            "border": null,
            "align_items": null,
            "bottom": null,
            "_model_module": "@jupyter-widgets/base",
            "top": null,
            "grid_column": null,
            "overflow_y": null,
            "overflow_x": null,
            "grid_auto_flow": null,
            "grid_area": null,
            "grid_template_columns": null,
            "flex": null,
            "_model_name": "LayoutModel",
            "justify_items": null,
            "grid_row": null,
            "max_height": null,
            "align_content": null,
            "visibility": null,
            "align_self": null,
            "height": null,
            "min_height": null,
            "padding": null,
            "grid_auto_rows": null,
            "grid_gap": null,
            "max_width": null,
            "order": null,
            "_view_module_version": "1.2.0",
            "grid_template_areas": null,
            "object_position": null,
            "object_fit": null,
            "grid_auto_columns": null,
            "margin": null,
            "display": null,
            "left": null
          }
        },
        "c4c2cf0ec17e44118c90d594251cdd2a": {
          "model_module": "@jupyter-widgets/controls",
          "model_name": "HTMLModel",
          "model_module_version": "1.5.0",
          "state": {
            "_view_name": "HTMLView",
            "style": "IPY_MODEL_b766f06d451846e49f1707c1c4383470",
            "_dom_classes": [],
            "description": "",
            "_model_name": "HTMLModel",
            "placeholder": "​",
            "_view_module": "@jupyter-widgets/controls",
            "_model_module_version": "1.5.0",
            "value": "100%",
            "_view_count": null,
            "_view_module_version": "1.5.0",
            "description_tooltip": null,
            "_model_module": "@jupyter-widgets/controls",
            "layout": "IPY_MODEL_af1555e732cd410281860e163647c2a2"
          }
        },
        "d24fbf94fa724211be7883265442bfa6": {
          "model_module": "@jupyter-widgets/controls",
          "model_name": "FloatProgressModel",
          "model_module_version": "1.5.0",
          "state": {
            "_view_name": "ProgressView",
            "style": "IPY_MODEL_8d60b78b22cc4695ae35ba6f5ea28ced",
            "_dom_classes": [],
            "description": "",
            "_model_name": "FloatProgressModel",
            "bar_style": "success",
            "max": 99,
            "_view_module": "@jupyter-widgets/controls",
            "_model_module_version": "1.5.0",
            "value": 99,
            "_view_count": null,
            "_view_module_version": "1.5.0",
            "orientation": "horizontal",
            "min": 0,
            "description_tooltip": null,
            "_model_module": "@jupyter-widgets/controls",
            "layout": "IPY_MODEL_890934fd5a924ae6a0dbe95ef9367f2c"
          }
        },
        "e35b50e8b6574b40acca7d2801747813": {
          "model_module": "@jupyter-widgets/controls",
          "model_name": "HTMLModel",
          "model_module_version": "1.5.0",
          "state": {
            "_view_name": "HTMLView",
            "style": "IPY_MODEL_5774cb3adcef444d9f494f1a46a746af",
            "_dom_classes": [],
            "description": "",
            "_model_name": "HTMLModel",
            "placeholder": "​",
            "_view_module": "@jupyter-widgets/controls",
            "_model_module_version": "1.5.0",
            "value": " 99/99 [00:14&lt;00:00,  6.88it/s]",
            "_view_count": null,
            "_view_module_version": "1.5.0",
            "description_tooltip": null,
            "_model_module": "@jupyter-widgets/controls",
            "layout": "IPY_MODEL_1ff4d65971da4868a907107d827884d0"
          }
        },
        "b766f06d451846e49f1707c1c4383470": {
          "model_module": "@jupyter-widgets/controls",
          "model_name": "DescriptionStyleModel",
          "model_module_version": "1.5.0",
          "state": {
            "_view_name": "StyleView",
            "_model_name": "DescriptionStyleModel",
            "description_width": "",
            "_view_module": "@jupyter-widgets/base",
            "_model_module_version": "1.5.0",
            "_view_count": null,
            "_view_module_version": "1.2.0",
            "_model_module": "@jupyter-widgets/controls"
          }
        },
        "af1555e732cd410281860e163647c2a2": {
          "model_module": "@jupyter-widgets/base",
          "model_name": "LayoutModel",
          "model_module_version": "1.2.0",
          "state": {
            "_view_name": "LayoutView",
            "grid_template_rows": null,
            "right": null,
            "justify_content": null,
            "_view_module": "@jupyter-widgets/base",
            "overflow": null,
            "_model_module_version": "1.2.0",
            "_view_count": null,
            "flex_flow": null,
            "width": null,
            "min_width": null,
            "border": null,
            "align_items": null,
            "bottom": null,
            "_model_module": "@jupyter-widgets/base",
            "top": null,
            "grid_column": null,
            "overflow_y": null,
            "overflow_x": null,
            "grid_auto_flow": null,
            "grid_area": null,
            "grid_template_columns": null,
            "flex": null,
            "_model_name": "LayoutModel",
            "justify_items": null,
            "grid_row": null,
            "max_height": null,
            "align_content": null,
            "visibility": null,
            "align_self": null,
            "height": null,
            "min_height": null,
            "padding": null,
            "grid_auto_rows": null,
            "grid_gap": null,
            "max_width": null,
            "order": null,
            "_view_module_version": "1.2.0",
            "grid_template_areas": null,
            "object_position": null,
            "object_fit": null,
            "grid_auto_columns": null,
            "margin": null,
            "display": null,
            "left": null
          }
        },
        "8d60b78b22cc4695ae35ba6f5ea28ced": {
          "model_module": "@jupyter-widgets/controls",
          "model_name": "ProgressStyleModel",
          "model_module_version": "1.5.0",
          "state": {
            "_view_name": "StyleView",
            "_model_name": "ProgressStyleModel",
            "description_width": "",
            "_view_module": "@jupyter-widgets/base",
            "_model_module_version": "1.5.0",
            "_view_count": null,
            "_view_module_version": "1.2.0",
            "bar_color": null,
            "_model_module": "@jupyter-widgets/controls"
          }
        },
        "890934fd5a924ae6a0dbe95ef9367f2c": {
          "model_module": "@jupyter-widgets/base",
          "model_name": "LayoutModel",
          "model_module_version": "1.2.0",
          "state": {
            "_view_name": "LayoutView",
            "grid_template_rows": null,
            "right": null,
            "justify_content": null,
            "_view_module": "@jupyter-widgets/base",
            "overflow": null,
            "_model_module_version": "1.2.0",
            "_view_count": null,
            "flex_flow": null,
            "width": null,
            "min_width": null,
            "border": null,
            "align_items": null,
            "bottom": null,
            "_model_module": "@jupyter-widgets/base",
            "top": null,
            "grid_column": null,
            "overflow_y": null,
            "overflow_x": null,
            "grid_auto_flow": null,
            "grid_area": null,
            "grid_template_columns": null,
            "flex": null,
            "_model_name": "LayoutModel",
            "justify_items": null,
            "grid_row": null,
            "max_height": null,
            "align_content": null,
            "visibility": null,
            "align_self": null,
            "height": null,
            "min_height": null,
            "padding": null,
            "grid_auto_rows": null,
            "grid_gap": null,
            "max_width": null,
            "order": null,
            "_view_module_version": "1.2.0",
            "grid_template_areas": null,
            "object_position": null,
            "object_fit": null,
            "grid_auto_columns": null,
            "margin": null,
            "display": null,
            "left": null
          }
        },
        "5774cb3adcef444d9f494f1a46a746af": {
          "model_module": "@jupyter-widgets/controls",
          "model_name": "DescriptionStyleModel",
          "model_module_version": "1.5.0",
          "state": {
            "_view_name": "StyleView",
            "_model_name": "DescriptionStyleModel",
            "description_width": "",
            "_view_module": "@jupyter-widgets/base",
            "_model_module_version": "1.5.0",
            "_view_count": null,
            "_view_module_version": "1.2.0",
            "_model_module": "@jupyter-widgets/controls"
          }
        },
        "1ff4d65971da4868a907107d827884d0": {
          "model_module": "@jupyter-widgets/base",
          "model_name": "LayoutModel",
          "model_module_version": "1.2.0",
          "state": {
            "_view_name": "LayoutView",
            "grid_template_rows": null,
            "right": null,
            "justify_content": null,
            "_view_module": "@jupyter-widgets/base",
            "overflow": null,
            "_model_module_version": "1.2.0",
            "_view_count": null,
            "flex_flow": null,
            "width": null,
            "min_width": null,
            "border": null,
            "align_items": null,
            "bottom": null,
            "_model_module": "@jupyter-widgets/base",
            "top": null,
            "grid_column": null,
            "overflow_y": null,
            "overflow_x": null,
            "grid_auto_flow": null,
            "grid_area": null,
            "grid_template_columns": null,
            "flex": null,
            "_model_name": "LayoutModel",
            "justify_items": null,
            "grid_row": null,
            "max_height": null,
            "align_content": null,
            "visibility": null,
            "align_self": null,
            "height": null,
            "min_height": null,
            "padding": null,
            "grid_auto_rows": null,
            "grid_gap": null,
            "max_width": null,
            "order": null,
            "_view_module_version": "1.2.0",
            "grid_template_areas": null,
            "object_position": null,
            "object_fit": null,
            "grid_auto_columns": null,
            "margin": null,
            "display": null,
            "left": null
          }
        }
      }
    }
  },
  "cells": [
    {
      "cell_type": "markdown",
      "metadata": {
        "id": "view-in-github",
        "colab_type": "text"
      },
      "source": [
        "<a href=\"https://colab.research.google.com/github/rokokzk87/Education/blob/main/3_probability_and_statistics_LLN_and_CLT.ipynb\" target=\"_parent\"><img src=\"https://colab.research.google.com/assets/colab-badge.svg\" alt=\"Open In Colab\"/></a>"
      ]
    },
    {
      "cell_type": "code",
      "metadata": {
        "id": "7gPGXrSNBJIF"
      },
      "source": [
        "import pandas as pd\n",
        "import numpy as np"
      ],
      "execution_count": null,
      "outputs": []
    },
    {
      "cell_type": "code",
      "metadata": {
        "id": "m7yMiD5aG282"
      },
      "source": [
        "import matplotlib.pyplot as plt\n",
        "plt.style.use('dark_background')"
      ],
      "execution_count": null,
      "outputs": []
    },
    {
      "cell_type": "code",
      "metadata": {
        "colab": {
          "base_uri": "https://localhost:8080/"
        },
        "id": "IZBcf25VHCsn",
        "outputId": "eb591816-05b9-49d1-dcf7-c4ef2224acc1"
      },
      "source": [
        "np.random.randint(1,7)"
      ],
      "execution_count": null,
      "outputs": [
        {
          "output_type": "execute_result",
          "data": {
            "text/plain": [
              "1"
            ]
          },
          "metadata": {},
          "execution_count": 17
        }
      ]
    },
    {
      "cell_type": "code",
      "metadata": {
        "id": "95UPcGIwISb7"
      },
      "source": [
        "dice = pd.Series([1,2,3,4,5,6])"
      ],
      "execution_count": null,
      "outputs": []
    },
    {
      "cell_type": "code",
      "metadata": {
        "colab": {
          "base_uri": "https://localhost:8080/"
        },
        "id": "EiTY3eqZIh8w",
        "outputId": "a5b49658-a8c8-40d7-d949-b74f4473be5b"
      },
      "source": [
        "dice.mean()"
      ],
      "execution_count": null,
      "outputs": [
        {
          "output_type": "execute_result",
          "data": {
            "text/plain": [
              "3.5"
            ]
          },
          "metadata": {},
          "execution_count": 21
        }
      ]
    },
    {
      "cell_type": "code",
      "metadata": {
        "colab": {
          "base_uri": "https://localhost:8080/"
        },
        "id": "8L-MTkkdIk-Y",
        "outputId": "80ad1e07-02af-49de-efab-6a3a35ac8f9a"
      },
      "source": [
        "np.random.randint(1,7,size=10)"
      ],
      "execution_count": null,
      "outputs": [
        {
          "output_type": "execute_result",
          "data": {
            "text/plain": [
              "array([6, 6, 1, 6, 4, 2, 6, 2, 4, 4])"
            ]
          },
          "metadata": {},
          "execution_count": 22
        }
      ]
    },
    {
      "cell_type": "code",
      "metadata": {
        "colab": {
          "base_uri": "https://localhost:8080/"
        },
        "id": "i5likdh5IxGi",
        "outputId": "7942021f-07d7-4852-f599-59f7c12d7902"
      },
      "source": [
        "dice.sample(10,replace=True)"
      ],
      "execution_count": null,
      "outputs": [
        {
          "output_type": "execute_result",
          "data": {
            "text/plain": [
              "2    3\n",
              "3    4\n",
              "3    4\n",
              "1    2\n",
              "2    3\n",
              "3    4\n",
              "5    6\n",
              "0    1\n",
              "5    6\n",
              "2    3\n",
              "dtype: int64"
            ]
          },
          "metadata": {},
          "execution_count": 25
        }
      ]
    },
    {
      "cell_type": "code",
      "metadata": {
        "colab": {
          "base_uri": "https://localhost:8080/"
        },
        "id": "DUtqUsctI-Ww",
        "outputId": "4f7097d8-a82d-464d-b29c-66e7b039a51c"
      },
      "source": [
        "dice.mean()"
      ],
      "execution_count": null,
      "outputs": [
        {
          "output_type": "execute_result",
          "data": {
            "text/plain": [
              "3.5"
            ]
          },
          "metadata": {},
          "execution_count": 28
        }
      ]
    },
    {
      "cell_type": "code",
      "metadata": {
        "colab": {
          "base_uri": "https://localhost:8080/"
        },
        "id": "L2eWKJaUI5to",
        "outputId": "ed7ca717-e523-4606-91de-7fb967b771df"
      },
      "source": [
        "dice.sample(4,replace=True).mean()"
      ],
      "execution_count": null,
      "outputs": [
        {
          "output_type": "execute_result",
          "data": {
            "text/plain": [
              "2.75"
            ]
          },
          "metadata": {},
          "execution_count": 55
        }
      ]
    },
    {
      "cell_type": "code",
      "metadata": {
        "id": "1X1OdADJJH5q"
      },
      "source": [
        "result = []\n",
        "for n in range(1,1000):\n",
        "  result.append(dice.sample(n,replace=True).mean())"
      ],
      "execution_count": null,
      "outputs": []
    },
    {
      "cell_type": "code",
      "metadata": {
        "colab": {
          "base_uri": "https://localhost:8080/"
        },
        "id": "RDlWzvDsJwFC",
        "outputId": "b4bd1a29-30f9-44ab-f7bf-892a30a7260c"
      },
      "source": [
        "result[:10]"
      ],
      "execution_count": null,
      "outputs": [
        {
          "output_type": "execute_result",
          "data": {
            "text/plain": [
              "[1.0,\n",
              " 6.0,\n",
              " 3.3333333333333335,\n",
              " 4.5,\n",
              " 2.8,\n",
              " 4.0,\n",
              " 2.7142857142857144,\n",
              " 3.625,\n",
              " 3.6666666666666665,\n",
              " 3.9]"
            ]
          },
          "metadata": {},
          "execution_count": 58
        }
      ]
    },
    {
      "cell_type": "code",
      "metadata": {
        "colab": {
          "base_uri": "https://localhost:8080/",
          "height": 283
        },
        "id": "Jt0yGlgtJzsk",
        "outputId": "1776793e-5697-41df-f417-e5db308cff03"
      },
      "source": [
        "pd.Series(result).plot(grid=True)"
      ],
      "execution_count": null,
      "outputs": [
        {
          "output_type": "execute_result",
          "data": {
            "text/plain": [
              "<matplotlib.axes._subplots.AxesSubplot at 0x7fd8f6399690>"
            ]
          },
          "metadata": {},
          "execution_count": 60
        },
        {
          "output_type": "display_data",
          "data": {
            "image/png": "[encoded data removed]",
            "text/plain": [
              "<Figure size 432x288 with 1 Axes>"
            ]
          },
          "metadata": {}
        }
      ]
    },
    {
      "cell_type": "code",
      "metadata": {
        "id": "da7MStDRJ2_e"
      },
      "source": [
        "result = [dice.sample(n,replace=True).mean() for n in range(1,1000)]"
      ],
      "execution_count": null,
      "outputs": []
    },
    {
      "cell_type": "code",
      "metadata": {
        "colab": {
          "base_uri": "https://localhost:8080/",
          "height": 283
        },
        "id": "hPlKK4-7KLN-",
        "outputId": "eff9ca72-da4b-43b4-c140-3c8768fb8bd6"
      },
      "source": [
        "pd.Series([dice.sample(n,replace=True).mean() for n in range(1,1000)]).plot()"
      ],
      "execution_count": null,
      "outputs": [
        {
          "output_type": "execute_result",
          "data": {
            "text/plain": [
              "<matplotlib.axes._subplots.AxesSubplot at 0x7fd8f5eb1990>"
            ]
          },
          "metadata": {},
          "execution_count": 64
        },
        {
          "output_type": "display_data",
          "data": {
            "image/png": "[encoded data removed]",
            "text/plain": [
              "<Figure size 432x288 with 1 Axes>"
            ]
          },
          "metadata": {}
        }
      ]
    },
    {
      "cell_type": "code",
      "metadata": {
        "colab": {
          "base_uri": "https://localhost:8080/",
          "height": 298
        },
        "id": "YvukflYMKZIh",
        "outputId": "3e804aae-b1c1-45c7-938c-b3ff4144aae1"
      },
      "source": [
        "t = dice.sample(1000,replace=True).to_frame().reset_index(drop=True)\n",
        "t['cum'] = t[0].cumsum()\n",
        "t['sample_size'] = range(1,1001)\n",
        "t['mean'] = t['cum'] / t['sample_size']\n",
        "t.set_index('sample_size')['mean'].plot(grid=True)"
      ],
      "execution_count": null,
      "outputs": [
        {
          "output_type": "execute_result",
          "data": {
            "text/plain": [
              "<matplotlib.axes._subplots.AxesSubplot at 0x7fd8f5dddcd0>"
            ]
          },
          "metadata": {},
          "execution_count": 84
        },
        {
          "output_type": "display_data",
          "data": {
            "image/png": "[encoded data removed]",
            "text/plain": [
              "<Figure size 432x288 with 1 Axes>"
            ]
          },
          "metadata": {}
        }
      ]
    },
    {
      "cell_type": "code",
      "metadata": {
        "colab": {
          "base_uri": "https://localhost:8080/",
          "height": 283
        },
        "id": "c3nfI3S_LkJv",
        "outputId": "3f5426ce-b79f-4171-d595-001eabc2fd12"
      },
      "source": [
        "pd.Series([dice.sample(n,replace=True).mean() for n in range(1,1000)]).plot()"
      ],
      "execution_count": null,
      "outputs": [
        {
          "output_type": "execute_result",
          "data": {
            "text/plain": [
              "<matplotlib.axes._subplots.AxesSubplot at 0x7fd8f5c11d90>"
            ]
          },
          "metadata": {},
          "execution_count": 85
        },
        {
          "output_type": "display_data",
          "data": {
            "image/png": "[encoded data removed]",
            "text/plain": [
              "<Figure size 432x288 with 1 Axes>"
            ]
          },
          "metadata": {}
        }
      ]
    },
    {
      "cell_type": "code",
      "metadata": {
        "colab": {
          "base_uri": "https://localhost:8080/"
        },
        "id": "B-URkLiVMOUw",
        "outputId": "384ec0f1-3adc-41d9-e0e0-92811072520a"
      },
      "source": [
        "np.random.normal(size=1000)"
      ],
      "execution_count": null,
      "outputs": [
        {
          "output_type": "execute_result",
          "data": {
            "text/plain": [
              "array([ 1.29883748e+00,  1.22180043e+00,  9.25990762e-01,  7.74461432e-01,\n",
              "       -6.20398089e-01,  5.66272024e-01,  5.07446301e-01, -2.98749939e-01,\n",
              "        1.39170760e+00, -1.92034999e-01, -1.74135102e-01,  7.04693169e-01,\n",
              "       -5.52383446e-01, -2.12611546e-01,  3.19527951e-03,  5.69809758e-01,\n",
              "        1.65354652e+00, -5.30571592e-01,  1.20554547e+00,  6.95092954e-01,\n",
              "        6.23644505e-01,  1.20495661e+00,  4.06114390e-01, -5.98799408e-01,\n",
              "        2.36685817e-02, -3.88851363e-01,  4.84361419e-01,  3.37490288e-01,\n",
              "       -5.31185249e-01, -9.12544096e-01, -1.03372032e+00, -1.61962986e-01,\n",
              "        1.58016099e+00, -3.38363260e-01, -1.00457305e+00, -3.74409856e-01,\n",
              "       -4.80975896e-01,  2.22829619e-01, -1.66000307e-01, -1.11014844e+00,\n",
              "        1.69241145e+00, -4.59221402e-01,  1.07175034e+00, -1.64820241e-01,\n",
              "        1.21028431e+00,  8.94120036e-01,  6.52322770e-01, -3.25172452e-01,\n",
              "       -3.12678832e-01,  8.59369225e-01,  2.02650503e+00,  4.48403494e-01,\n",
              "        2.40194731e-01, -7.23351173e-02, -9.83467404e-01, -6.11104397e-01,\n",
              "        2.17507240e-01, -1.09068274e-01, -1.44728723e+00, -1.18494335e-01,\n",
              "       -2.75515278e-04,  7.08848015e-01,  4.34638497e-01,  6.26200479e-01,\n",
              "       -3.83240026e-01, -8.42825630e-01,  2.13036203e+00,  1.44888359e-01,\n",
              "       -5.17968723e-01, -1.07084850e+00, -5.49165951e-01, -2.22292292e-01,\n",
              "       -6.68881074e-01, -4.65983466e-01, -8.76144775e-02,  1.26932077e-01,\n",
              "       -9.49531846e-01,  1.04776696e+00, -5.78946564e-01,  7.40344902e-01,\n",
              "        1.34397056e+00, -3.47438098e-01, -2.84214279e-01, -6.02648468e-01,\n",
              "       -9.16429123e-01,  1.06067929e+00, -4.58060578e-01,  5.12293130e-01,\n",
              "       -1.09493250e+00,  1.91808231e+00, -1.43357532e+00,  9.09891364e-01,\n",
              "       -1.41407371e-01,  1.09759857e+00,  1.04806563e+00, -1.79752239e+00,\n",
              "        1.17266610e-01,  8.76698553e-01, -1.03374363e+00,  1.05691780e-01,\n",
              "        7.45643939e-01, -7.99886171e-01, -6.42271012e-01,  9.98717335e-01,\n",
              "        5.87017391e-01,  7.16493130e-01, -1.45636094e+00, -7.47472797e-02,\n",
              "        1.32680806e+00,  1.89845618e+00, -1.59200625e-01,  1.71615918e+00,\n",
              "        3.16141446e-02, -1.66242004e+00, -4.69575288e-01,  3.59455227e-01,\n",
              "        5.51796633e-01,  4.39751605e-01, -1.10562431e+00,  6.13774644e-01,\n",
              "       -1.22873439e+00, -1.15162497e+00,  4.33942758e-02,  1.05597612e+00,\n",
              "       -5.31961873e-01, -1.44423420e-01, -1.28792273e-01, -1.40697401e+00,\n",
              "        1.89203497e+00, -1.90502986e-01,  1.47943063e+00, -6.38408525e-01,\n",
              "        1.86165575e+00,  1.27568616e-01, -6.91631701e-01,  3.34150254e-01,\n",
              "       -1.70651280e+00, -9.23235608e-01, -1.48352555e+00, -1.41503116e+00,\n",
              "       -3.50449984e-01,  6.12096147e-01,  5.40673291e-01, -1.18551661e+00,\n",
              "       -2.79961822e-01,  5.07254721e-01,  1.60646287e+00, -3.60596639e-02,\n",
              "       -1.30207673e+00,  9.20169824e-01, -1.12156866e+00, -1.17196266e+00,\n",
              "        1.38915603e+00,  6.93448104e-02,  1.62701468e+00, -1.56932021e+00,\n",
              "        1.07918564e+00, -1.00804729e+00,  1.05574934e+00, -9.81422805e-01,\n",
              "        1.73366112e+00,  4.16982368e-01, -3.10482810e-01,  7.30760326e-01,\n",
              "       -5.91570713e-01, -7.19923040e-01,  7.26541330e-01,  2.86916537e-01,\n",
              "       -5.66182584e-01, -3.59805355e-03, -7.67037525e-01, -2.30648520e-01,\n",
              "        9.05295744e-02,  1.82640667e+00, -7.80979270e-01, -1.64784936e+00,\n",
              "       -9.43953714e-01,  1.38861849e+00, -8.33877283e-01,  6.10736772e-01,\n",
              "       -1.28882423e+00,  6.88207564e-02,  5.02165796e-01, -5.32203858e-01,\n",
              "       -9.23382149e-01,  1.26929132e+00,  2.39654008e-01,  9.31900608e-01,\n",
              "       -6.47663587e-01, -6.21108848e-01, -1.93706708e+00, -1.72879435e+00,\n",
              "        1.19534539e+00,  1.29868891e-01, -1.13115193e+00, -9.16986602e-01,\n",
              "       -5.68201793e-01, -8.17053771e-01, -1.45095349e+00,  1.33604688e-01,\n",
              "       -7.40505785e-02,  3.93156112e-01, -8.47120872e-02,  8.62534335e-01,\n",
              "       -9.03391310e-01,  1.59307858e+00,  2.51121972e+00, -2.79504283e+00,\n",
              "       -1.16804893e+00,  4.98930400e-01,  3.02001801e-01, -1.02114995e+00,\n",
              "        9.89760026e-01,  7.92942262e-01,  2.96382082e-01,  4.56587148e-01,\n",
              "       -7.56760148e-01,  9.86030176e-01,  1.11487730e+00, -8.06092671e-01,\n",
              "        4.14351543e-02, -9.02327695e-01, -4.53824472e-01,  1.02568858e+00,\n",
              "       -1.46320258e+00, -5.98816658e-01,  7.47928878e-01,  1.24995827e+00,\n",
              "        1.35671582e+00,  6.09208111e-01, -5.84167452e-01,  1.86261953e-02,\n",
              "        1.14410541e+00,  1.82033903e-01,  9.37442968e-01,  1.46381611e+00,\n",
              "        1.27644358e-01,  1.73698020e+00, -2.41826543e-01, -2.38645274e-01,\n",
              "       -6.96201854e-01,  3.82727150e-01,  4.82007860e-01,  2.35796164e+00,\n",
              "       -5.80215038e-01, -5.33320309e-01, -7.09352596e-01, -1.54792294e-01,\n",
              "        1.11614969e-01,  1.00502460e+00, -2.60279450e+00, -8.75472871e-01,\n",
              "        4.89953270e-01,  1.50995962e+00, -2.60641138e-01, -3.43548844e-01,\n",
              "       -1.34587724e+00, -1.50861975e-02, -1.50860168e+00, -1.50785403e+00,\n",
              "        9.30431717e-02, -5.30350703e-01, -2.22201879e-01, -1.55565971e+00,\n",
              "        2.57406045e+00, -3.23248742e-01, -4.56738007e-01, -1.08342173e-01,\n",
              "       -1.03026041e+00, -1.70973859e+00,  5.27761675e-02,  4.92276828e-01,\n",
              "        6.91140259e-01, -2.00444142e-01, -1.12912039e+00, -6.04556433e-02,\n",
              "        1.63944084e+00, -4.18194379e-01,  2.11917793e-01, -5.05410705e-02,\n",
              "        3.93586162e-01, -1.69394382e+00,  3.28984985e-01, -7.89222237e-01,\n",
              "        2.93170523e-01,  5.61702121e-01,  8.88314923e-01,  4.12716791e-01,\n",
              "        1.83255363e+00, -1.36969159e+00, -5.12522948e-01, -1.55511320e+00,\n",
              "        9.71238321e-01, -8.64363657e-01, -1.86947416e-01, -2.44190668e+00,\n",
              "        4.45956121e-01,  6.69673232e-01, -1.68788012e-01,  4.30141057e-01,\n",
              "        1.05952013e+00, -8.65278691e-02, -1.52822084e-01, -4.85699644e-01,\n",
              "       -8.15169331e-01,  1.06224973e+00,  1.94189232e+00,  1.18404702e-01,\n",
              "       -5.94913969e-01,  5.63651316e-01,  1.80507456e+00,  6.45934668e-01,\n",
              "        1.46254296e+00, -2.82233749e-01, -7.07243871e-01,  9.66877031e-01,\n",
              "        5.20380465e-01,  1.13556899e+00, -1.93231597e+00, -9.67459388e-01,\n",
              "        2.99453827e-02,  9.17982285e-01,  1.98142894e-01,  2.90893647e-01,\n",
              "        1.56341844e+00, -8.10646230e-01,  2.33910917e-01, -5.36597548e-01,\n",
              "        1.43395635e+00, -8.90273117e-02,  1.00548213e+00,  6.77855274e-01,\n",
              "        1.16903804e+00,  4.67031624e-01,  1.58939073e-01,  1.12331125e+00,\n",
              "       -1.04157270e+00,  9.59016546e-01, -1.20429990e+00,  2.01053295e+00,\n",
              "        1.77968791e+00,  1.98785246e+00, -2.26255856e-01, -9.02947970e-02,\n",
              "       -1.32548022e+00, -5.72238127e-01,  1.56641931e-01,  5.63949459e-01,\n",
              "        1.38684665e+00,  8.35963674e-01,  2.06163683e+00, -1.70207926e-01,\n",
              "       -2.57182546e-01,  9.98406255e-01,  2.93719477e+00, -1.45092308e-01,\n",
              "        3.91165196e-01,  1.40920091e+00, -3.87816254e-01,  2.37226294e+00,\n",
              "        1.22372619e+00, -9.38019721e-01,  3.45208502e-01,  8.10601153e-02,\n",
              "        2.68269478e-01,  1.38768146e-03, -1.86212473e-01,  2.99843169e-02,\n",
              "       -1.71170767e+00,  8.45208135e-01, -1.55779658e+00, -1.15192984e+00,\n",
              "        1.39196642e+00,  7.82829310e-01,  3.59287322e-01,  1.62956286e+00,\n",
              "        1.10036098e+00, -7.73199615e-01, -2.63833744e+00, -1.53705796e+00,\n",
              "        7.03995203e-01,  1.14246311e-01, -3.66517424e-01,  6.72500348e-01,\n",
              "        1.17248009e+00,  5.51184199e-02, -8.43130232e-01,  2.08673267e+00,\n",
              "       -1.02734101e+00,  2.11293834e+00, -8.58656002e-01,  1.88495893e+00,\n",
              "        4.08858029e-01,  1.27789922e-02,  1.68188543e+00, -2.39087051e-01,\n",
              "        7.64486777e-01,  3.27623594e-01, -1.34941776e+00, -1.51608798e+00,\n",
              "       -1.39198643e+00,  5.42799154e-01, -2.00823007e-01, -1.06517342e-01,\n",
              "       -1.13775301e-01, -7.34181535e-01,  4.60462637e-01,  1.07101409e+00,\n",
              "        6.95647167e-01,  1.41143043e+00, -5.52340793e-01,  1.72595176e+00,\n",
              "       -3.04874064e-01, -1.30512477e-01,  1.04604240e+00,  1.35310842e+00,\n",
              "       -6.23266692e-01,  1.47529628e+00,  6.66678532e-01, -8.79072730e-01,\n",
              "        2.92741619e-01,  1.15051816e+00, -6.53726057e-01, -4.87079682e-02,\n",
              "       -2.17891620e+00,  2.04629069e-01,  1.84154098e+00,  1.70719390e-01,\n",
              "       -5.46723968e-01, -4.89691794e-01,  1.39728740e+00,  1.47408161e-01,\n",
              "       -8.12124677e-01,  1.77405886e+00,  1.92932678e-01, -7.64008301e-02,\n",
              "        1.61336843e+00, -1.06295958e-01,  8.91239434e-01, -1.26657164e-01,\n",
              "       -8.06879516e-01, -8.49373025e-01, -1.35639994e+00,  7.67642970e-02,\n",
              "        6.91726209e-01,  1.93771069e+00,  2.48902208e-02, -1.72136441e-01,\n",
              "        6.16774589e-01, -4.22006952e-01,  1.97592058e+00, -1.80102004e+00,\n",
              "       -1.49691107e-01, -1.48322826e+00,  1.40869915e+00,  9.39771685e-01,\n",
              "        1.47092449e+00, -1.59342443e-01, -2.30624147e+00, -1.27748274e+00,\n",
              "       -5.09685965e-01, -8.69723072e-01,  6.03354343e-01, -1.82486998e+00,\n",
              "       -1.03485914e+00, -7.91982764e-01,  8.19054723e-01, -2.50826713e-01,\n",
              "       -7.63421807e-01, -7.44351614e-01, -4.94495745e-01, -2.39581223e-01,\n",
              "        7.03543675e-01,  2.36504125e-01,  3.30184491e-01,  2.78481515e+00,\n",
              "        8.00635067e-01, -9.34570645e-02,  1.19624395e+00,  8.05685863e-01,\n",
              "       -8.59076410e-01,  4.54627326e-01,  6.25908398e-01,  1.24229690e-01,\n",
              "       -1.43727105e+00, -4.25334504e-01,  2.47914892e-01,  1.07676355e-01,\n",
              "       -5.24748626e-01, -1.51049710e+00, -1.06198616e+00, -3.27830992e-01,\n",
              "       -8.93127127e-01, -7.17969406e-01, -7.09315665e-02,  9.67004734e-01,\n",
              "        2.23249251e-01, -2.12682988e-01,  1.26358201e-01, -9.46352029e-02,\n",
              "       -1.41315435e+00, -1.44374589e+00,  1.34274437e+00, -7.53668006e-02,\n",
              "       -4.96641702e-01,  3.70102272e-01, -3.33940168e-01,  1.46894069e+00,\n",
              "        1.10143371e-01, -1.46683933e+00,  1.80101529e-01,  9.59226537e-01,\n",
              "        6.47563171e-01, -1.08154168e+00,  2.94783699e-01, -4.53200871e-01,\n",
              "       -1.29375722e+00,  1.19335759e+00,  7.31082534e-01,  8.60689242e-01,\n",
              "       -2.88727877e-01, -2.93560441e-01, -6.39993171e-01,  4.38733287e-01,\n",
              "       -2.13479289e+00, -1.19315243e+00, -8.69324642e-01, -2.01317793e+00,\n",
              "        8.63448784e-01,  2.55362548e-01, -1.40467993e+00, -8.92662255e-01,\n",
              "        1.91139610e-01, -2.35741738e-01,  4.66636128e-01,  2.94160054e-01,\n",
              "        5.92446488e-01, -4.90703824e-01, -5.96441990e-01,  6.91737390e-01,\n",
              "       -1.18366672e+00, -1.31604642e+00, -8.42179731e-01,  1.62819419e+00,\n",
              "        1.23313108e+00, -8.34097810e-01, -5.46593603e-01,  9.61368422e-01,\n",
              "       -1.88149953e-01,  2.18340481e-01, -2.38505684e+00, -9.98922770e-01,\n",
              "        2.38346793e-01, -1.86327676e-01, -2.29038988e-01,  8.79819263e-01,\n",
              "        1.35269003e+00,  2.11951299e-01, -8.31918306e-01, -1.44053055e+00,\n",
              "        1.12132570e+00,  1.01819434e+00, -3.25050103e-01,  4.42878509e-01,\n",
              "        1.32068923e+00,  2.10620014e+00, -5.77098212e-01,  1.24576461e-01,\n",
              "       -1.87375767e-01, -1.09232711e+00,  2.95591491e-01,  6.19040648e-01,\n",
              "        5.64990302e-02,  7.72895259e-01,  2.55145538e+00, -2.32301777e-01,\n",
              "        6.02599529e-01,  1.71788002e+00, -2.91637354e-01,  2.17210386e-01,\n",
              "        1.05883047e+00,  1.04720226e+00,  1.60098136e+00, -1.39726261e+00,\n",
              "       -2.58453936e-01,  1.05594115e-01, -1.07709142e+00, -1.53402542e+00,\n",
              "        2.81045008e-01,  7.98564215e-02,  3.60608660e-01, -1.17917924e+00,\n",
              "        9.45335608e-01, -6.77989625e-01,  3.70439357e-01,  2.74702961e-01,\n",
              "       -1.01447646e+00, -5.81484565e-01,  9.03193222e-01,  1.48515476e+00,\n",
              "       -1.95970888e+00, -3.30218726e-01,  6.72890432e-01, -6.06868747e-01,\n",
              "        1.42907440e+00,  9.46696272e-01, -2.65544532e-01, -3.59326161e-01,\n",
              "        5.63477573e-01, -6.38497969e-01,  1.06704318e-01,  2.31349653e-01,\n",
              "       -1.03859244e-01,  2.66389695e-01, -1.12129769e+00, -7.64712974e-01,\n",
              "        6.56768250e-01, -4.77040744e-01,  1.56247880e+00,  8.37477449e-01,\n",
              "        9.72404855e-01, -1.25177521e+00, -1.23121555e+00, -7.28891237e-01,\n",
              "        1.41701211e-01,  1.04490681e-01, -7.40425960e-01, -6.49001937e-01,\n",
              "        5.72546336e-01,  7.72872733e-02, -9.97269537e-01, -5.16100606e-01,\n",
              "        1.10241285e+00, -3.66576228e-02, -9.61114857e-01,  1.04391018e+00,\n",
              "       -1.77500899e-01,  7.96183653e-01, -9.21959056e-01,  1.05951655e+00,\n",
              "       -1.17782514e+00,  1.65020667e+00, -7.49143009e-01, -1.88294373e-01,\n",
              "        3.83943568e-01, -1.83825204e+00,  2.13312974e-01, -1.31899710e+00,\n",
              "       -1.04860564e+00, -2.67532115e-01,  8.15207049e-01,  2.99272494e-01,\n",
              "       -5.98146693e-01,  1.07578145e+00,  3.46809616e-01, -1.29783073e+00,\n",
              "        2.58243685e+00, -1.65219819e+00, -3.34494479e-01, -1.15036168e+00,\n",
              "        2.51670600e-01,  3.00008157e-01, -2.04646955e-02, -1.44930436e+00,\n",
              "        1.55984977e+00, -1.35847840e+00, -1.69987029e+00,  1.58132134e+00,\n",
              "       -8.89786418e-01, -7.63470583e-01, -1.00683412e+00,  1.42118561e+00,\n",
              "        3.13264251e-01,  7.57930472e-01, -6.70283264e-01,  2.36728246e-01,\n",
              "        5.92392113e-01, -5.36984983e-01,  5.38607291e-01,  8.82251188e-02,\n",
              "       -9.16826206e-01, -2.79116585e-01,  4.12720238e-01,  6.60991493e-01,\n",
              "       -5.30039651e-01, -1.33299867e+00,  1.17891913e+00,  1.11542750e-02,\n",
              "       -6.92259968e-01, -2.94365343e-01,  4.41156185e-01, -2.22537352e+00,\n",
              "       -1.25225713e+00,  9.09880464e-01, -8.70747742e-02,  5.20365324e-01,\n",
              "       -1.41872526e+00, -6.71324959e-01,  1.88876711e+00, -9.79543637e-01,\n",
              "        8.50166797e-01,  9.10939664e-02,  2.01888891e+00,  1.63839825e-01,\n",
              "        1.01539737e-01,  7.51286549e-01,  9.14923630e-02,  6.20095264e-01,\n",
              "        2.20577095e-01, -1.28570466e+00,  1.08177960e+00, -7.68681974e-03,\n",
              "        8.61729642e-01, -6.55384045e-01, -1.49692236e-01, -1.16402378e-01,\n",
              "        6.01679514e-01,  7.83151278e-01,  5.68689184e-01,  4.21080659e-01,\n",
              "       -5.52580970e-01,  4.67880018e-01, -1.69963294e+00,  1.43163308e+00,\n",
              "        8.51378288e-01, -5.13867406e-01, -3.19896092e-01, -5.43914691e-03,\n",
              "        2.07787971e-01, -1.30903444e+00, -2.00417186e-01,  2.50299614e-01,\n",
              "       -1.79174082e-01,  1.25537413e+00,  1.31898141e+00, -7.81985157e-01,\n",
              "        8.36749136e-02,  1.58154733e+00,  1.03996959e+00, -1.51490005e+00,\n",
              "        3.37993629e-02,  6.63675259e-01, -6.85034993e-01, -1.07846818e+00,\n",
              "       -6.06629958e-01, -9.20903977e-01,  3.58691152e-01, -1.82175153e+00,\n",
              "        7.36446081e-01,  9.43463724e-01, -1.55195625e+00, -7.78934141e-01,\n",
              "        1.37199561e-01,  5.50106002e-01,  1.46438327e+00,  1.41313469e+00,\n",
              "        1.12386716e-01, -7.89651965e-02, -1.01064546e+00,  3.79554505e-02,\n",
              "       -7.04710588e-01,  1.53806700e+00,  1.79511732e+00, -4.44745530e-01,\n",
              "       -7.13413893e-01,  1.58482212e+00, -8.68139021e-02,  2.11520535e+00,\n",
              "       -5.99640328e-01, -1.01184860e+00, -2.00341987e+00, -5.38481324e-01,\n",
              "        1.02185035e+00,  7.12899682e-01,  3.17021458e-01,  1.40293829e+00,\n",
              "       -1.98606392e-01, -1.32465587e+00,  9.26750109e-01,  8.10548240e-01,\n",
              "        4.25046372e-01,  4.09595885e-01, -3.20658511e-01,  1.20178807e-01,\n",
              "        1.24824634e+00, -7.84231515e-01, -4.75817916e-01, -9.13541342e-01,\n",
              "        1.98034070e-01, -1.02729153e+00, -1.18185468e+00, -1.10019105e+00,\n",
              "       -8.76622495e-01, -1.01569990e+00,  2.41506529e+00, -5.69273638e-01,\n",
              "       -6.16352271e-01, -8.71826990e-01,  7.43261916e-01,  2.38656973e+00,\n",
              "       -4.35931057e-01,  2.54379908e-01, -1.27785399e+00,  1.87499826e+00,\n",
              "       -5.06921987e-01,  1.81206984e+00,  3.06045882e-01, -9.85994923e-01,\n",
              "        2.23906392e-01,  4.91499950e-01,  1.12049068e+00, -1.24702846e-01,\n",
              "        7.46290179e-01, -4.36935967e-01, -2.00799085e-01, -1.07565485e+00,\n",
              "       -4.65906895e-01,  1.33977976e+00,  7.94943694e-01, -8.24094778e-01,\n",
              "        5.00919694e-01, -1.52080229e+00,  5.59350869e-01,  2.14228258e+00,\n",
              "        1.09882805e+00, -1.83210427e+00,  1.61763225e+00, -1.32211691e-01,\n",
              "       -2.34236783e+00, -2.80083751e-01, -2.30263412e+00,  2.27669781e-01,\n",
              "       -7.12863291e-01,  2.69348404e-02,  6.83119874e-01,  1.64675866e+00,\n",
              "        2.50642219e-01, -1.28916087e+00, -8.70276984e-01,  3.38762078e-01,\n",
              "       -4.89911837e-01,  3.51441497e-02, -2.39288161e-01, -9.33269036e-01,\n",
              "        8.79256056e-01, -3.43075712e-01,  9.28383539e-01,  7.64158778e-01,\n",
              "       -8.43009799e-01, -1.62345912e+00, -2.22818747e+00, -6.26684334e-01,\n",
              "        4.76992917e-01,  1.96872025e+00,  1.79249623e+00, -5.73002858e-01,\n",
              "       -6.42022302e-01, -1.76451936e-01, -7.67360804e-01,  4.87850620e-01,\n",
              "       -7.63128832e-01,  1.71297864e+00,  5.67542497e-01, -1.84097738e+00,\n",
              "        6.17616768e-01, -7.85094711e-02, -1.30924662e+00,  1.28258449e+00,\n",
              "       -2.53624959e-01,  6.65156825e-01, -7.31698605e-01, -7.11327232e-01,\n",
              "       -1.92044677e-02, -1.39701169e+00, -5.18039333e-01,  1.25500803e-01,\n",
              "        1.21718457e+00, -3.48063417e-01, -7.12790709e-01, -5.12913771e-01,\n",
              "        1.66098965e-01, -9.40498961e-01, -4.15367654e-01, -1.21333299e+00,\n",
              "        5.25999225e-01, -5.33361269e-01,  7.99660247e-01, -1.27472117e+00,\n",
              "        5.20433096e-02, -2.43230725e-01,  1.16477754e+00, -9.47760945e-01,\n",
              "        1.21291985e+00, -2.87516184e-01, -2.34378802e-01, -2.82812020e-01,\n",
              "        1.34391260e+00, -8.64689708e-01, -1.85100082e+00,  6.66385270e-01,\n",
              "        6.06625796e-01,  1.43227685e-01,  1.16614531e+00,  6.53420147e-01,\n",
              "       -2.06945895e-01,  2.19982544e-01,  5.41206567e-01, -7.79070514e-02,\n",
              "        6.76801586e-01,  9.58937423e-01,  1.22720629e-01,  8.44474586e-01,\n",
              "        1.10352803e+00, -1.60975980e-01,  1.14036984e+00, -2.65974458e-01,\n",
              "       -1.33197790e+00,  7.23639671e-02,  1.00217574e+00, -1.02419751e+00,\n",
              "       -1.69967687e-01, -7.12813653e-01,  3.74548266e-01, -7.29324735e-01,\n",
              "        7.57007980e-01,  6.88886342e-01,  5.11695759e-01, -5.76286509e-01,\n",
              "       -6.60324807e-01,  2.75940869e-01,  2.29172264e+00,  2.16185820e-01,\n",
              "       -3.11298406e-01, -1.97757330e+00, -1.96237218e-01, -1.31836290e+00,\n",
              "       -5.63356644e-01, -3.75399078e-01, -7.17879764e-01,  3.74662431e-01,\n",
              "       -1.17968113e+00,  2.85784296e+00,  4.69472110e-01, -1.68622511e+00,\n",
              "       -1.27276845e+00, -3.45242194e-01,  1.29263340e-01, -2.95213071e+00,\n",
              "        7.71219578e-01, -1.89824875e-01, -1.10903667e+00,  1.04466822e+00,\n",
              "        2.06247735e-01, -1.83710302e-01, -3.70966938e-01,  1.17766904e-01,\n",
              "       -4.73283291e-01, -3.75505310e-01,  1.30876696e-01,  5.17191676e-01,\n",
              "       -5.74332806e-02,  3.94793878e-01,  1.76695543e-01, -1.50346987e+00,\n",
              "       -1.03980867e+00,  1.02813426e-01, -5.05660249e-01,  1.08536674e+00,\n",
              "       -3.95830727e-01, -6.95950563e-01,  7.08608561e-01, -4.17061116e-01,\n",
              "        1.49507369e+00,  1.21449672e+00,  1.22102581e-01,  4.79972385e-01,\n",
              "        9.43647852e-01, -1.59624132e-01, -9.02718548e-01, -4.99109774e-01,\n",
              "       -5.43822794e-01, -1.14266623e+00, -2.87115014e-01, -1.93734229e-02,\n",
              "        2.68051590e-01, -3.97092735e-01,  1.78719365e-01, -2.45701734e+00,\n",
              "        3.86296382e-01,  2.76016193e-01,  8.57935284e-02,  5.15495240e-01,\n",
              "        6.25103278e-01,  5.20892337e-01,  5.01851880e-01, -1.73255200e-01,\n",
              "        2.20415953e+00,  7.36142849e-01, -7.51799592e-01, -1.56506691e-01])"
            ]
          },
          "metadata": {},
          "execution_count": 86
        }
      ]
    },
    {
      "cell_type": "markdown",
      "metadata": {
        "id": "z7ofNW94MgZn"
      },
      "source": [
        "Нормальное"
      ]
    },
    {
      "cell_type": "code",
      "metadata": {
        "colab": {
          "base_uri": "https://localhost:8080/",
          "height": 298
        },
        "id": "Z1KO7wZQL2EG",
        "outputId": "7b31440a-1d26-46ec-a926-39d57ed21dbd"
      },
      "source": [
        "t = pd.DataFrame(np.random.normal(size=1000))\n",
        "t['cum'] = t[0].cumsum()\n",
        "t['sample_size'] = range(1,1001)\n",
        "t['mean'] = t['cum'] / t['sample_size']\n",
        "t.set_index('sample_size')['mean'].plot(grid=True)"
      ],
      "execution_count": null,
      "outputs": [
        {
          "output_type": "execute_result",
          "data": {
            "text/plain": [
              "<matplotlib.axes._subplots.AxesSubplot at 0x7fd8f5ba5290>"
            ]
          },
          "metadata": {},
          "execution_count": 94
        },
        {
          "output_type": "display_data",
          "data": {
            "image/png": "[encoded data removed]",
            "text/plain": [
              "<Figure size 432x288 with 1 Axes>"
            ]
          },
          "metadata": {}
        }
      ]
    },
    {
      "cell_type": "markdown",
      "metadata": {
        "id": "d3VmKCcuMXAy"
      },
      "source": [
        "Равномерное"
      ]
    },
    {
      "cell_type": "code",
      "metadata": {
        "colab": {
          "base_uri": "https://localhost:8080/",
          "height": 298
        },
        "id": "8HZSLEmTMpUH",
        "outputId": "0b9d4b65-1ce1-4e8a-971c-3a9fbb98f465"
      },
      "source": [
        "n = 10000\n",
        "t = pd.DataFrame(np.random.uniform(size=n))\n",
        "t['cum'] = t[0].cumsum()\n",
        "t['sample_size'] = range(1,n+1)\n",
        "t['mean'] = t['cum'] / t['sample_size']\n",
        "t.set_index('sample_size')['mean'].plot(grid=True)"
      ],
      "execution_count": null,
      "outputs": [
        {
          "output_type": "execute_result",
          "data": {
            "text/plain": [
              "<matplotlib.axes._subplots.AxesSubplot at 0x7fd8f54b5ad0>"
            ]
          },
          "metadata": {},
          "execution_count": 101
        },
        {
          "output_type": "display_data",
          "data": {
            "image/png": "[encoded data removed]",
            "text/plain": [
              "<Figure size 432x288 with 1 Axes>"
            ]
          },
          "metadata": {}
        }
      ]
    },
    {
      "cell_type": "markdown",
      "metadata": {
        "id": "s3hyxu52Mxch"
      },
      "source": [
        "Логнормальное"
      ]
    },
    {
      "cell_type": "code",
      "metadata": {
        "colab": {
          "base_uri": "https://localhost:8080/",
          "height": 283
        },
        "id": "y7IObr0aNLud",
        "outputId": "15132c38-ecd7-4cdc-803c-b7ac30ca6c9b"
      },
      "source": [
        "sns.histplot(np.random.lognormal(size=1000))"
      ],
      "execution_count": null,
      "outputs": [
        {
          "output_type": "execute_result",
          "data": {
            "text/plain": [
              "<matplotlib.axes._subplots.AxesSubplot at 0x7fd8f5466ad0>"
            ]
          },
          "metadata": {},
          "execution_count": 104
        },
        {
          "output_type": "display_data",
          "data": {
            "image/png": "[encoded data removed]",
            "text/plain": [
              "<Figure size 432x288 with 1 Axes>"
            ]
          },
          "metadata": {}
        }
      ]
    },
    {
      "cell_type": "code",
      "metadata": {
        "id": "MtURavKENTum"
      },
      "source": [
        "from scipy.stats import lognorm"
      ],
      "execution_count": null,
      "outputs": []
    },
    {
      "cell_type": "code",
      "metadata": {
        "id": "ToGgH74oNsB7"
      },
      "source": [
        "s = 0.954\n",
        "mean, var, skew, kurt = lognorm.stats(s, moments='mvsk')"
      ],
      "execution_count": null,
      "outputs": []
    },
    {
      "cell_type": "code",
      "metadata": {
        "colab": {
          "base_uri": "https://localhost:8080/"
        },
        "id": "bGczAIMHNv2J",
        "outputId": "8bc1b7b5-c76c-45dd-f712-a63815e8ed5b"
      },
      "source": [
        "mean"
      ],
      "execution_count": null,
      "outputs": [
        {
          "output_type": "execute_result",
          "data": {
            "text/plain": [
              "array(1.5762648)"
            ]
          },
          "metadata": {},
          "execution_count": 107
        }
      ]
    },
    {
      "cell_type": "code",
      "metadata": {
        "id": "x-8dvA7oNwOy"
      },
      "source": [
        "rv = lognorm(s)"
      ],
      "execution_count": null,
      "outputs": []
    },
    {
      "cell_type": "code",
      "metadata": {
        "colab": {
          "base_uri": "https://localhost:8080/",
          "height": 283
        },
        "id": "2eDCUhQoN4Oc",
        "outputId": "30b586ba-b18a-43f9-a761-395aa0370e8c"
      },
      "source": [
        "s = 3\n",
        "r = lognorm.rvs(s, size=1000)\n",
        "sns.histplot(r)"
      ],
      "execution_count": null,
      "outputs": [
        {
          "output_type": "execute_result",
          "data": {
            "text/plain": [
              "<matplotlib.axes._subplots.AxesSubplot at 0x7fd8f3596510>"
            ]
          },
          "metadata": {},
          "execution_count": 125
        },
        {
          "output_type": "display_data",
          "data": {
            "image/png": "[encoded data removed]",
            "text/plain": [
              "<Figure size 432x288 with 1 Axes>"
            ]
          },
          "metadata": {}
        }
      ]
    },
    {
      "cell_type": "code",
      "metadata": {
        "colab": {
          "base_uri": "https://localhost:8080/",
          "height": 283
        },
        "id": "TWStf6yaOyCE",
        "outputId": "85984819-7349-421e-9192-c151a7dad200"
      },
      "source": [
        "pd.Series(r).hist()"
      ],
      "execution_count": null,
      "outputs": [
        {
          "output_type": "execute_result",
          "data": {
            "text/plain": [
              "<matplotlib.axes._subplots.AxesSubplot at 0x7fd8ee0e1150>"
            ]
          },
          "metadata": {},
          "execution_count": 126
        },
        {
          "output_type": "display_data",
          "data": {
            "image/png": "[encoded data removed]",
            "text/plain": [
              "<Figure size 432x288 with 1 Axes>"
            ]
          },
          "metadata": {}
        }
      ]
    },
    {
      "cell_type": "code",
      "metadata": {
        "colab": {
          "base_uri": "https://localhost:8080/",
          "height": 283
        },
        "id": "1aj7ZXz-RjDW",
        "outputId": "d6ee511d-1653-4026-abe2-5859ecc21409"
      },
      "source": [
        "sns.histplot(np.random.normal(size=10000))"
      ],
      "execution_count": null,
      "outputs": [
        {
          "output_type": "execute_result",
          "data": {
            "text/plain": [
              "<matplotlib.axes._subplots.AxesSubplot at 0x7fd8ed777550>"
            ]
          },
          "metadata": {},
          "execution_count": 140
        },
        {
          "output_type": "display_data",
          "data": {
            "image/png": "[encoded data removed]",
            "text/plain": [
              "<Figure size 432x288 with 1 Axes>"
            ]
          },
          "metadata": {}
        }
      ]
    },
    {
      "cell_type": "code",
      "metadata": {
        "id": "xz19Hh65OciU"
      },
      "source": [
        "mean, var, skew, kurt = lognorm.stats(s, moments='mvsk')"
      ],
      "execution_count": null,
      "outputs": []
    },
    {
      "cell_type": "code",
      "metadata": {
        "colab": {
          "base_uri": "https://localhost:8080/"
        },
        "id": "mhqAR_c-OeGU",
        "outputId": "4bc80faa-3f3a-415c-b7aa-e24698ea59b8"
      },
      "source": [
        "mean"
      ],
      "execution_count": null,
      "outputs": [
        {
          "output_type": "execute_result",
          "data": {
            "text/plain": [
              "array(90.0171313)"
            ]
          },
          "metadata": {},
          "execution_count": 128
        }
      ]
    },
    {
      "cell_type": "code",
      "metadata": {
        "colab": {
          "base_uri": "https://localhost:8080/",
          "height": 298
        },
        "id": "sgyfuAavN9jy",
        "outputId": "2436c02b-d096-4938-b21b-21308904e856"
      },
      "source": [
        "n = 10000\n",
        "t = pd.DataFrame(lognorm.rvs(s, size=n))\n",
        "t['cum'] = t[0].cumsum()\n",
        "t['sample_size'] = range(1,n+1)\n",
        "t['mean'] = t['cum'] / t['sample_size']\n",
        "t.set_index('sample_size')['mean'].plot(grid=True)"
      ],
      "execution_count": null,
      "outputs": [
        {
          "output_type": "execute_result",
          "data": {
            "text/plain": [
              "<matplotlib.axes._subplots.AxesSubplot at 0x7fd8f2571c50>"
            ]
          },
          "metadata": {},
          "execution_count": 138
        },
        {
          "output_type": "display_data",
          "data": {
            "image/png": "[encoded data removed]",
            "text/plain": [
              "<Figure size 432x288 with 1 Axes>"
            ]
          },
          "metadata": {}
        }
      ]
    },
    {
      "cell_type": "code",
      "metadata": {
        "colab": {
          "base_uri": "https://localhost:8080/"
        },
        "id": "UiiRRo3fPX_d",
        "outputId": "154c44a8-f814-41f3-cdd7-4b760e285e96"
      },
      "source": [
        "t[0].mean()"
      ],
      "execution_count": null,
      "outputs": [
        {
          "output_type": "execute_result",
          "data": {
            "text/plain": [
              "81.59386531925607"
            ]
          },
          "metadata": {},
          "execution_count": 137
        }
      ]
    },
    {
      "cell_type": "code",
      "metadata": {
        "colab": {
          "base_uri": "https://localhost:8080/",
          "height": 298
        },
        "id": "FqWRxI-WOIMY",
        "outputId": "4f870c9b-2c13-4347-d572-8c60f42f2e03"
      },
      "source": [
        "n = 10000\n",
        "t = pd.DataFrame(np.random.uniform(size=n))\n",
        "t['cum'] = t[0].cumsum()\n",
        "t['sample_size'] = range(1,n+1)\n",
        "t['mean'] = t['cum'] / t['sample_size']\n",
        "t.set_index('sample_size')['mean'].plot(grid=True)"
      ],
      "execution_count": null,
      "outputs": [
        {
          "output_type": "execute_result",
          "data": {
            "text/plain": [
              "<matplotlib.axes._subplots.AxesSubplot at 0x7fd8ed0b2750>"
            ]
          },
          "metadata": {},
          "execution_count": 141
        },
        {
          "output_type": "display_data",
          "data": {
            "image/png": "[encoded data removed]",
            "text/plain": [
              "<Figure size 432x288 with 1 Axes>"
            ]
          },
          "metadata": {}
        }
      ]
    },
    {
      "cell_type": "markdown",
      "metadata": {
        "id": "i9PLr9afSBvt"
      },
      "source": [
        "Центральная предельная теорема"
      ]
    },
    {
      "cell_type": "code",
      "metadata": {
        "colab": {
          "base_uri": "https://localhost:8080/",
          "height": 283
        },
        "id": "P-BZZupuTyfz",
        "outputId": "e35de0e8-8641-4add-a3ac-039b53319dad"
      },
      "source": [
        "sns.histplot(dice,bins=6)"
      ],
      "execution_count": null,
      "outputs": [
        {
          "output_type": "execute_result",
          "data": {
            "text/plain": [
              "<matplotlib.axes._subplots.AxesSubplot at 0x7fd8ecf16f10>"
            ]
          },
          "metadata": {},
          "execution_count": 152
        },
        {
          "output_type": "display_data",
          "data": {
            "image/png": "[encoded data removed]",
            "text/plain": [
              "<Figure size 432x288 with 1 Axes>"
            ]
          },
          "metadata": {}
        }
      ]
    },
    {
      "cell_type": "code",
      "metadata": {
        "id": "ceoELyutUhjR"
      },
      "source": [
        "data = [dice.sample(1000,replace=True).mean() for _ in range(10000)]"
      ],
      "execution_count": null,
      "outputs": []
    },
    {
      "cell_type": "code",
      "metadata": {
        "colab": {
          "base_uri": "https://localhost:8080/",
          "height": 283
        },
        "id": "tMd-o99OSL1Z",
        "outputId": "912c2723-42ab-45f5-cc08-402971a51f08"
      },
      "source": [
        "sns.histplot(data)"
      ],
      "execution_count": null,
      "outputs": [
        {
          "output_type": "execute_result",
          "data": {
            "text/plain": [
              "<matplotlib.axes._subplots.AxesSubplot at 0x7fd8ecdbef90>"
            ]
          },
          "metadata": {},
          "execution_count": 162
        },
        {
          "output_type": "display_data",
          "data": {
            "image/png": "[encoded data removed]",
            "text/plain": [
              "<Figure size 432x288 with 1 Axes>"
            ]
          },
          "metadata": {}
        }
      ]
    },
    {
      "cell_type": "code",
      "metadata": {
        "colab": {
          "base_uri": "https://localhost:8080/",
          "height": 295
        },
        "id": "8YjH4h3ASVtv",
        "outputId": "9f377fee-bd99-409c-a031-ac38f3a893fb"
      },
      "source": [
        "import pylab \n",
        "import scipy.stats as stats\n",
        "\n",
        "stats.probplot(data, dist=\"norm\", plot=pylab)\n",
        "pylab.show()"
      ],
      "execution_count": null,
      "outputs": [
        {
          "output_type": "display_data",
          "data": {
            "image/png": "[encoded data removed]",
            "text/plain": [
              "<Figure size 432x288 with 1 Axes>"
            ]
          },
          "metadata": {}
        }
      ]
    },
    {
      "cell_type": "code",
      "metadata": {
        "id": "JhwOvA-WVYR9"
      },
      "source": [
        "data = [dice.sample(1000,replace=True).sum() for _ in range(10000)]"
      ],
      "execution_count": null,
      "outputs": []
    },
    {
      "cell_type": "code",
      "metadata": {
        "colab": {
          "base_uri": "https://localhost:8080/",
          "height": 283
        },
        "id": "cD9OlZ35VYR-",
        "outputId": "be01eaa4-3687-4949-9e0a-d48d8ccc6111"
      },
      "source": [
        "sns.histplot(data)"
      ],
      "execution_count": null,
      "outputs": [
        {
          "output_type": "execute_result",
          "data": {
            "text/plain": [
              "<matplotlib.axes._subplots.AxesSubplot at 0x7fd8ec83bd90>"
            ]
          },
          "metadata": {},
          "execution_count": 165
        },
        {
          "output_type": "display_data",
          "data": {
            "image/png": "[encoded data removed]",
            "text/plain": [
              "<Figure size 432x288 with 1 Axes>"
            ]
          },
          "metadata": {}
        }
      ]
    },
    {
      "cell_type": "code",
      "metadata": {
        "id": "BWwNPUwXVbMX"
      },
      "source": [
        "def d():\n",
        "  return dice.sample(1,replace=True).values[0]"
      ],
      "execution_count": null,
      "outputs": []
    },
    {
      "cell_type": "code",
      "metadata": {
        "colab": {
          "base_uri": "https://localhost:8080/"
        },
        "id": "b7zSI4NBVp_w",
        "outputId": "ab094f61-00f3-4e9a-b7c0-9e2dae3dcbab"
      },
      "source": [
        "d()"
      ],
      "execution_count": null,
      "outputs": [
        {
          "output_type": "execute_result",
          "data": {
            "text/plain": [
              "6"
            ]
          },
          "metadata": {},
          "execution_count": 182
        }
      ]
    },
    {
      "cell_type": "code",
      "metadata": {
        "colab": {
          "base_uri": "https://localhost:8080/",
          "height": 283
        },
        "id": "hhFWvEhAV5Po",
        "outputId": "549b3bcb-4cdf-4b04-a4f7-a220b8f81e37"
      },
      "source": [
        "sns.histplot([d() + d() + d() + d() + d() for _ in range(10000)])"
      ],
      "execution_count": null,
      "outputs": [
        {
          "output_type": "execute_result",
          "data": {
            "text/plain": [
              "<matplotlib.axes._subplots.AxesSubplot at 0x7fd8ec0dcc10>"
            ]
          },
          "metadata": {},
          "execution_count": 194
        },
        {
          "output_type": "display_data",
          "data": {
            "image/png": "[encoded data removed]",
            "text/plain": [
              "<Figure size 432x288 with 1 Axes>"
            ]
          },
          "metadata": {}
        }
      ]
    },
    {
      "cell_type": "code",
      "metadata": {
        "id": "imW0dJQFWD1r"
      },
      "source": [
        "data = [dice.sample(100,replace=True).mean() for _ in range(10000)]"
      ],
      "execution_count": null,
      "outputs": []
    },
    {
      "cell_type": "code",
      "metadata": {
        "colab": {
          "base_uri": "https://localhost:8080/",
          "height": 283
        },
        "id": "zumHA8ZTWE8-",
        "outputId": "e3f1d331-7bcc-4b9f-a462-ffedb55ee872"
      },
      "source": [
        "sns.histplot(data)"
      ],
      "execution_count": null,
      "outputs": [
        {
          "output_type": "execute_result",
          "data": {
            "text/plain": [
              "<matplotlib.axes._subplots.AxesSubplot at 0x7fd8eb7ba050>"
            ]
          },
          "metadata": {},
          "execution_count": 213
        },
        {
          "output_type": "display_data",
          "data": {
            "image/png": "[encoded data removed]",
            "text/plain": [
              "<Figure size 432x288 with 1 Axes>"
            ]
          },
          "metadata": {}
        }
      ]
    },
    {
      "cell_type": "code",
      "metadata": {
        "id": "Vpz5RU-4YCWp"
      },
      "source": [
        "data = [dice.sample(1000,replace=True).mean() for _ in range(10000)]"
      ],
      "execution_count": null,
      "outputs": []
    },
    {
      "cell_type": "code",
      "metadata": {
        "colab": {
          "base_uri": "https://localhost:8080/",
          "height": 283
        },
        "id": "stAg8pC0YFeM",
        "outputId": "fabfc2ff-efcc-42e7-fdf8-9ee5e965c1b3"
      },
      "source": [
        "sns.histplot(data)"
      ],
      "execution_count": null,
      "outputs": [
        {
          "output_type": "execute_result",
          "data": {
            "text/plain": [
              "<matplotlib.axes._subplots.AxesSubplot at 0x7fd8eb6e3310>"
            ]
          },
          "metadata": {},
          "execution_count": 215
        },
        {
          "output_type": "display_data",
          "data": {
            "image/png": "[encoded data removed]",
            "text/plain": [
              "<Figure size 432x288 with 1 Axes>"
            ]
          },
          "metadata": {}
        }
      ]
    },
    {
      "cell_type": "markdown",
      "metadata": {
        "id": "eGjvHDpXYzWr"
      },
      "source": [
        "Логнормальное"
      ]
    },
    {
      "cell_type": "code",
      "metadata": {
        "colab": {
          "base_uri": "https://localhost:8080/",
          "height": 283
        },
        "id": "aLsNUed_Ystx",
        "outputId": "7d9ce336-4e43-4fce-8ecb-938b321c269b"
      },
      "source": [
        "s = 1.5\n",
        "r = lognorm.rvs(s, size=1000)\n",
        "sns.histplot(r)"
      ],
      "execution_count": null,
      "outputs": [
        {
          "output_type": "execute_result",
          "data": {
            "text/plain": [
              "<matplotlib.axes._subplots.AxesSubplot at 0x7fd8e5953e10>"
            ]
          },
          "metadata": {},
          "execution_count": 220
        },
        {
          "output_type": "display_data",
          "data": {
            "image/png": "[encoded data removed]",
            "text/plain": [
              "<Figure size 432x288 with 1 Axes>"
            ]
          },
          "metadata": {}
        }
      ]
    },
    {
      "cell_type": "code",
      "metadata": {
        "id": "3Q94SwHCZcPM"
      },
      "source": [
        "data = [lognorm.rvs(s, size=100000).mean() for _ in range(10000)]"
      ],
      "execution_count": null,
      "outputs": []
    },
    {
      "cell_type": "code",
      "metadata": {
        "colab": {
          "base_uri": "https://localhost:8080/",
          "height": 283
        },
        "id": "zkUaz_ygX3Um",
        "outputId": "7d9e7df2-b9f0-463a-d9cb-1d5fd9683c91"
      },
      "source": [
        "sns.histplot(data)"
      ],
      "execution_count": null,
      "outputs": [
        {
          "output_type": "execute_result",
          "data": {
            "text/plain": [
              "<matplotlib.axes._subplots.AxesSubplot at 0x7fd8e3b61dd0>"
            ]
          },
          "metadata": {},
          "execution_count": 229
        },
        {
          "output_type": "display_data",
          "data": {
            "image/png": "[encoded data removed]",
            "text/plain": [
              "<Figure size 432x288 with 1 Axes>"
            ]
          },
          "metadata": {}
        }
      ]
    },
    {
      "cell_type": "code",
      "metadata": {
        "colab": {
          "base_uri": "https://localhost:8080/",
          "height": 295
        },
        "id": "KYYfjRE4ZAFq",
        "outputId": "0a5b621e-d0e9-4c16-ab70-3fc73b199de9"
      },
      "source": [
        "import pylab \n",
        "import scipy.stats as stats\n",
        "\n",
        "stats.probplot(data, dist=\"norm\", plot=pylab)\n",
        "pylab.show()"
      ],
      "execution_count": null,
      "outputs": [
        {
          "output_type": "display_data",
          "data": {
            "image/png": "[encoded data removed]",
            "text/plain": [
              "<Figure size 432x288 with 1 Axes>"
            ]
          },
          "metadata": {}
        }
      ]
    },
    {
      "cell_type": "markdown",
      "metadata": {
        "id": "ZbSPbHJ2fIBW"
      },
      "source": [
        "Стандартное отклонение и квадратный корень и n"
      ]
    },
    {
      "cell_type": "code",
      "metadata": {
        "id": "yLOWRMtzjYLz"
      },
      "source": [
        "from tqdm.notebook import tqdm"
      ],
      "execution_count": null,
      "outputs": []
    },
    {
      "cell_type": "code",
      "metadata": {
        "colab": {
          "base_uri": "https://localhost:8080/",
          "height": 49,
          "referenced_widgets": [
            "11e10f2e07b24abb9df24df4d36e7db1",
            "131f63d70cb84cdc8a0c88e16a5458e0",
            "c4c2cf0ec17e44118c90d594251cdd2a",
            "d24fbf94fa724211be7883265442bfa6",
            "e35b50e8b6574b40acca7d2801747813",
            "b766f06d451846e49f1707c1c4383470",
            "af1555e732cd410281860e163647c2a2",
            "8d60b78b22cc4695ae35ba6f5ea28ced",
            "890934fd5a924ae6a0dbe95ef9367f2c",
            "5774cb3adcef444d9f494f1a46a746af",
            "1ff4d65971da4868a907107d827884d0"
          ]
        },
        "id": "hQRDZlI5jD86",
        "outputId": "d7feb2db-89bd-45d1-ced0-0c12bfc8a782"
      },
      "source": [
        "result = []\n",
        "for n in tqdm(range(1,100)):\n",
        "  result.append(pd.Series([dice.sample(n,replace=True).mean() for _ in range(1000)]).std())"
      ],
      "execution_count": null,
      "outputs": [
        {
          "output_type": "display_data",
          "data": {
            "application/vnd.jupyter.widget-view+json": {
              "model_id": "11e10f2e07b24abb9df24df4d36e7db1",
              "version_minor": 0,
              "version_major": 2
            },
            "text/plain": [
              "  0%|          | 0/99 [00:00<?, ?it/s]"
            ]
          },
          "metadata": {}
        }
      ]
    },
    {
      "cell_type": "code",
      "metadata": {
        "colab": {
          "base_uri": "https://localhost:8080/",
          "height": 287
        },
        "id": "t8ET81Jtjc0n",
        "outputId": "eb2eb4af-4c2b-473c-f60f-ee8e8a00e3bb"
      },
      "source": [
        "pd.Series(result).plot()"
      ],
      "execution_count": null,
      "outputs": [
        {
          "output_type": "execute_result",
          "data": {
            "text/plain": [
              "<matplotlib.axes._subplots.AxesSubplot at 0x7fd8e2cf0410>"
            ]
          },
          "metadata": {},
          "execution_count": 249
        },
        {
          "output_type": "display_data",
          "data": {
            "image/png": "[encoded data removed]",
            "text/plain": [
              "<Figure size 432x288 with 1 Axes>"
            ]
          },
          "metadata": {}
        }
      ]
    },
    {
      "cell_type": "markdown",
      "metadata": {
        "id": "Uw6ViJU_jj0T"
      },
      "source": [
        "Это обратно пропорционально квадратному корню из n"
      ]
    },
    {
      "cell_type": "code",
      "metadata": {
        "colab": {
          "base_uri": "https://localhost:8080/",
          "height": 319
        },
        "id": "_P42t0aNkpuZ",
        "outputId": "1fb67043-f006-4c64-9719-a11a15a43d7b"
      },
      "source": [
        "pd.Series(1/np.sqrt(range(100))).plot()"
      ],
      "execution_count": null,
      "outputs": [
        {
          "output_type": "stream",
          "name": "stderr",
          "text": [
            "/usr/local/lib/python3.7/dist-packages/ipykernel_launcher.py:1: RuntimeWarning: divide by zero encountered in true_divide\n",
            "  \"\"\"Entry point for launching an IPython kernel.\n"
          ]
        },
        {
          "output_type": "execute_result",
          "data": {
            "text/plain": [
              "<matplotlib.axes._subplots.AxesSubplot at 0x7fd8e37bb590>"
            ]
          },
          "metadata": {},
          "execution_count": 252
        },
        {
          "output_type": "display_data",
          "data": {
            "image/png": "[encoded data removed]",
            "text/plain": [
              "<Figure size 432x288 with 1 Axes>"
            ]
          },
          "metadata": {}
        }
      ]
    },
    {
      "cell_type": "code",
      "metadata": {
        "id": "j_0s7Dq9kuRu"
      },
      "source": [
        ""
      ],
      "execution_count": null,
      "outputs": []
    }
  ]
}