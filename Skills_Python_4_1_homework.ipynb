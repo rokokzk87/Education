{
  "nbformat": 4,
  "nbformat_minor": 0,
  "metadata": {
    "colab": {
      "name": "Skills_Python_4.1_homework.ipynb",
      "provenance": [],
      "include_colab_link": true
    },
    "kernelspec": {
      "display_name": "Python 3",
      "language": "python",
      "name": "python3"
    },
    "language_info": {
      "codemirror_mode": {
        "name": "ipython",
        "version": 3
      },
      "file_extension": ".py",
      "mimetype": "text/x-python",
      "name": "python",
      "nbconvert_exporter": "python",
      "pygments_lexer": "ipython3",
      "version": "3.8.3"
    }
  },
  "cells": [
    {
      "cell_type": "markdown",
      "metadata": {
        "id": "view-in-github",
        "colab_type": "text"
      },
      "source": [
        "<a href=\"https://colab.research.google.com/github/rokokzk87/Education/blob/main/Skills_Python_4_1_homework.ipynb\" target=\"_parent\"><img src=\"https://colab.research.google.com/assets/colab-badge.svg\" alt=\"Open In Colab\"/></a>"
      ]
    },
    {
      "cell_type": "markdown",
      "metadata": {
        "id": "ztPv6Kb-ILDp"
      },
      "source": [
        "# Домашнее задание 4.1\n",
        "\n",
        "# 🥨👨🏻‍🍳🥐🥖\n",
        "\n",
        "Тест с картинками оказался в итоге успешным, и теперь мы хотим усилить визуальный контент. Есть идея, что если мы сделаем не одну картинку, а еще и добавим видео производства наших изделий, то пользователь будет принимать решение о покупке охотнее и быстрее, и конверсия в заказ вырастет. \n",
        "\n",
        "__Продакт вернул нам такой дизайн эксперимента:__\n",
        "\n",
        "*1. `Бизнес-проблема:`* мы считаем, что конверсии из визита в покупку в нашем магазине недостаточно высоки. Мы посмотрели на страницы конкурентов и поняли, что у нас есть возможность увеличить объем продаж, если мы еще немного изменим дизайн страницы с каталогом продукции. \n",
        "\n",
        "*2. `Гипотеза:`* предполагается, что добавление видео с процессом приготовления вкусностей мотивирует к их покупке и позволяет добиться двух эффектов:\n",
        "   * повышение конверсии из визита в оплату (больше людей захотят купить нашу продукцию)\n",
        "   * как минимум, не снижение среднего чека покупки, а в идеале — увеличение\n",
        "    \n",
        "*3. `Ожидаемые действия пользователей:`* мы ожидаем, что, увидев видео с процессом приготовления вкусностей вместе с описанием продукции, больше людей захотят сделать покупку, а возможно — в среднем будут покупать больше продукции в одном заказе.\n",
        "\n",
        "*4. `Эксперимент будет считаться успешным, если:`*\n",
        "   * конверсия из визита в покупку с окном в 7 дней повысится\n",
        "   * средний чек покупки не снизится\n",
        "\n",
        "\n",
        "## Что нужно сделать?\n",
        "\n",
        "Проанализировать данные нового теста и дать свои комментарии о его успешности. Можно ли выкатывать изменение на всех пользователей?\n",
        "\n",
        "1. Выбрать окно конверсии\n",
        "2. Исследовать распределение пользователей по группам по основным сегментам\n",
        "3. Оценить статистическую значимость в изменении конверсии с помощью критерия хи-квадрат\n",
        "4. Вычислить мощность теста\n",
        "5. Использовать бутстрап для оценки влияния теста на средний чек\n",
        "6. Сделать вывод по результатам проведенного теста "
      ]
    },
    {
      "cell_type": "markdown",
      "metadata": {
        "id": "hppSG_9JbL0s"
      },
      "source": [
        "## Задание 1. Выбери окно конверсии, используя исторические данные \n",
        "\n",
        "**1. Прочитай файл investigate_window.csv.**\n",
        "   - Запиши даннные в переменную `historical_data`\n",
        "    \n",
        "   - Отправь безымянную колонку с нумерацией в индекс с помощью аргумента функции `read_csv()`.\n",
        "   \n",
        "   - Проверь, какой тип данных в каждой колонке, и переведи столбцы с датами в формат даты. "
      ]
    },
    {
      "cell_type": "code",
      "source": [
        "from google.colab import drive\n",
        "drive.mount('/content/drive')"
      ],
      "metadata": {
        "colab": {
          "base_uri": "https://localhost:8080/"
        },
        "id": "SI9NDbxNeqL5",
        "outputId": "c1c7f535-1a1d-4c93-d814-4fb23560b707"
      },
      "execution_count": 1,
      "outputs": [
        {
          "output_type": "stream",
          "name": "stdout",
          "text": [
            "Mounted at /content/drive\n"
          ]
        }
      ]
    },
    {
      "cell_type": "code",
      "metadata": {
        "id": "bZRgs094bL0v"
      },
      "source": [
        "import pandas as pd"
      ],
      "execution_count": 2,
      "outputs": []
    },
    {
      "cell_type": "code",
      "metadata": {
        "id": "Sk2xONPmbL0x"
      },
      "source": [
        "historical_data = pd.read_csv('/content/drive/MyDrive/Самообразование/Skypro/Занятие 6 Анализ AB-тестов/Материалы для домашки/investigate_window.csv')"
      ],
      "execution_count": 3,
      "outputs": []
    },
    {
      "cell_type": "code",
      "metadata": {
        "id": "dS3UJGDhbL0x",
        "outputId": "9cd4e894-96b9-4cb5-d9aa-0950ea2b7ee7",
        "colab": {
          "base_uri": "https://localhost:8080/",
          "height": 215
        }
      },
      "source": [
        "historical_data.head()"
      ],
      "execution_count": 4,
      "outputs": [
        {
          "output_type": "execute_result",
          "data": {
            "text/html": [
              "\n",
              "  <div id=\"df-4b7232fe-1747-4182-91f2-3b6b2f0843da\">\n",
              "    <div class=\"colab-df-container\">\n",
              "      <div>\n",
              "<style scoped>\n",
              "    .dataframe tbody tr th:only-of-type {\n",
              "        vertical-align: middle;\n",
              "    }\n",
              "\n",
              "    .dataframe tbody tr th {\n",
              "        vertical-align: top;\n",
              "    }\n",
              "\n",
              "    .dataframe thead th {\n",
              "        text-align: right;\n",
              "    }\n",
              "</style>\n",
              "<table border=\"1\" class=\"dataframe\">\n",
              "  <thead>\n",
              "    <tr style=\"text-align: right;\">\n",
              "      <th></th>\n",
              "      <th>Unnamed: 0</th>\n",
              "      <th>user_id</th>\n",
              "      <th>main_page_viewed_at</th>\n",
              "      <th>order_completed_at</th>\n",
              "      <th>time_to_order</th>\n",
              "    </tr>\n",
              "  </thead>\n",
              "  <tbody>\n",
              "    <tr>\n",
              "      <th>0</th>\n",
              "      <td>0</td>\n",
              "      <td>959238</td>\n",
              "      <td>2020-11-20 23:55:02.759000+00:00</td>\n",
              "      <td>2020-11-30 02:22:32.759000+00:00</td>\n",
              "      <td>9.102431</td>\n",
              "    </tr>\n",
              "    <tr>\n",
              "      <th>1</th>\n",
              "      <td>1</td>\n",
              "      <td>337366</td>\n",
              "      <td>2020-12-05 23:41:42.244000+00:00</td>\n",
              "      <td>2020-12-12 22:25:52.244000+00:00</td>\n",
              "      <td>6.947338</td>\n",
              "    </tr>\n",
              "    <tr>\n",
              "      <th>2</th>\n",
              "      <td>2</td>\n",
              "      <td>259956</td>\n",
              "      <td>2020-11-20 23:33:53.269000+00:00</td>\n",
              "      <td>2020-11-25 13:08:03.269000+00:00</td>\n",
              "      <td>4.565394</td>\n",
              "    </tr>\n",
              "    <tr>\n",
              "      <th>3</th>\n",
              "      <td>3</td>\n",
              "      <td>534280</td>\n",
              "      <td>2020-11-28 23:44:56.556000+00:00</td>\n",
              "      <td>2020-12-05 10:14:06.556000+00:00</td>\n",
              "      <td>6.436921</td>\n",
              "    </tr>\n",
              "    <tr>\n",
              "      <th>4</th>\n",
              "      <td>4</td>\n",
              "      <td>795121</td>\n",
              "      <td>2020-11-18 23:59:56.236000+00:00</td>\n",
              "      <td>2020-11-27 02:38:16.236000+00:00</td>\n",
              "      <td>8.109954</td>\n",
              "    </tr>\n",
              "  </tbody>\n",
              "</table>\n",
              "</div>\n",
              "      <button class=\"colab-df-convert\" onclick=\"convertToInteractive('df-4b7232fe-1747-4182-91f2-3b6b2f0843da')\"\n",
              "              title=\"Convert this dataframe to an interactive table.\"\n",
              "              style=\"display:none;\">\n",
              "        \n",
              "  <svg xmlns=\"http://www.w3.org/2000/svg\" height=\"24px\"viewBox=\"0 0 24 24\"\n",
              "       width=\"24px\">\n",
              "    <path d=\"M0 0h24v24H0V0z\" fill=\"none\"/>\n",
              "    <path d=\"M18.56 5.44l.94 2.06.94-2.06 2.06-.94-2.06-.94-.94-2.06-.94 2.06-2.06.94zm-11 1L8.5 8.5l.94-2.06 2.06-.94-2.06-.94L8.5 2.5l-.94 2.06-2.06.94zm10 10l.94 2.06.94-2.06 2.06-.94-2.06-.94-.94-2.06-.94 2.06-2.06.94z\"/><path d=\"M17.41 7.96l-1.37-1.37c-.4-.4-.92-.59-1.43-.59-.52 0-1.04.2-1.43.59L10.3 9.45l-7.72 7.72c-.78.78-.78 2.05 0 2.83L4 21.41c.39.39.9.59 1.41.59.51 0 1.02-.2 1.41-.59l7.78-7.78 2.81-2.81c.8-.78.8-2.07 0-2.86zM5.41 20L4 18.59l7.72-7.72 1.47 1.35L5.41 20z\"/>\n",
              "  </svg>\n",
              "      </button>\n",
              "      \n",
              "  <style>\n",
              "    .colab-df-container {\n",
              "      display:flex;\n",
              "      flex-wrap:wrap;\n",
              "      gap: 12px;\n",
              "    }\n",
              "\n",
              "    .colab-df-convert {\n",
              "      background-color: #E8F0FE;\n",
              "      border: none;\n",
              "      border-radius: 50%;\n",
              "      cursor: pointer;\n",
              "      display: none;\n",
              "      fill: #1967D2;\n",
              "      height: 32px;\n",
              "      padding: 0 0 0 0;\n",
              "      width: 32px;\n",
              "    }\n",
              "\n",
              "    .colab-df-convert:hover {\n",
              "      background-color: #E2EBFA;\n",
              "      box-shadow: 0px 1px 2px rgba(60, 64, 67, 0.3), 0px 1px 3px 1px rgba(60, 64, 67, 0.15);\n",
              "      fill: #174EA6;\n",
              "    }\n",
              "\n",
              "    [theme=dark] .colab-df-convert {\n",
              "      background-color: #3B4455;\n",
              "      fill: #D2E3FC;\n",
              "    }\n",
              "\n",
              "    [theme=dark] .colab-df-convert:hover {\n",
              "      background-color: #434B5C;\n",
              "      box-shadow: 0px 1px 3px 1px rgba(0, 0, 0, 0.15);\n",
              "      filter: drop-shadow(0px 1px 2px rgba(0, 0, 0, 0.3));\n",
              "      fill: #FFFFFF;\n",
              "    }\n",
              "  </style>\n",
              "\n",
              "      <script>\n",
              "        const buttonEl =\n",
              "          document.querySelector('#df-4b7232fe-1747-4182-91f2-3b6b2f0843da button.colab-df-convert');\n",
              "        buttonEl.style.display =\n",
              "          google.colab.kernel.accessAllowed ? 'block' : 'none';\n",
              "\n",
              "        async function convertToInteractive(key) {\n",
              "          const element = document.querySelector('#df-4b7232fe-1747-4182-91f2-3b6b2f0843da');\n",
              "          const dataTable =\n",
              "            await google.colab.kernel.invokeFunction('convertToInteractive',\n",
              "                                                     [key], {});\n",
              "          if (!dataTable) return;\n",
              "\n",
              "          const docLinkHtml = 'Like what you see? Visit the ' +\n",
              "            '<a target=\"_blank\" href=https://colab.research.google.com/notebooks/data_table.ipynb>data table notebook</a>'\n",
              "            + ' to learn more about interactive tables.';\n",
              "          element.innerHTML = '';\n",
              "          dataTable['output_type'] = 'display_data';\n",
              "          await google.colab.output.renderOutput(dataTable, element);\n",
              "          const docLink = document.createElement('div');\n",
              "          docLink.innerHTML = docLinkHtml;\n",
              "          element.appendChild(docLink);\n",
              "        }\n",
              "      </script>\n",
              "    </div>\n",
              "  </div>\n",
              "  "
            ],
            "text/plain": [
              "   Unnamed: 0  user_id  ...                order_completed_at time_to_order\n",
              "0           0   959238  ...  2020-11-30 02:22:32.759000+00:00      9.102431\n",
              "1           1   337366  ...  2020-12-12 22:25:52.244000+00:00      6.947338\n",
              "2           2   259956  ...  2020-11-25 13:08:03.269000+00:00      4.565394\n",
              "3           3   534280  ...  2020-12-05 10:14:06.556000+00:00      6.436921\n",
              "4           4   795121  ...  2020-11-27 02:38:16.236000+00:00      8.109954\n",
              "\n",
              "[5 rows x 5 columns]"
            ]
          },
          "metadata": {},
          "execution_count": 4
        }
      ]
    },
    {
      "cell_type": "code",
      "source": [
        "historical_data['main_page_viewed_at']=pd.to_datetime(historical_data['main_page_viewed_at'], format='%Y-%m-%d')"
      ],
      "metadata": {
        "id": "Z9rnV1WIfJTI"
      },
      "execution_count": 6,
      "outputs": []
    },
    {
      "cell_type": "code",
      "source": [
        "historical_data['order_completed_at']=pd.to_datetime(historical_data['order_completed_at'], format='%Y-%m-%d')"
      ],
      "metadata": {
        "id": "y5vKp0iTgo72"
      },
      "execution_count": 7,
      "outputs": []
    },
    {
      "cell_type": "code",
      "metadata": {
        "id": "Xef2_8M4bL0z",
        "outputId": "d8653aac-8375-4285-aae4-b7231423d3b3",
        "colab": {
          "base_uri": "https://localhost:8080/"
        }
      },
      "source": [
        "# Проверь, выводятся ли даты в формате datetime. Если нет — исправь это. \n",
        "\n",
        "historical_data.dtypes"
      ],
      "execution_count": 8,
      "outputs": [
        {
          "output_type": "execute_result",
          "data": {
            "text/plain": [
              "Unnamed: 0                           int64\n",
              "user_id                              int64\n",
              "main_page_viewed_at    datetime64[ns, UTC]\n",
              "order_completed_at     datetime64[ns, UTC]\n",
              "time_to_order                      float64\n",
              "dtype: object"
            ]
          },
          "metadata": {},
          "execution_count": 8
        }
      ]
    },
    {
      "cell_type": "markdown",
      "metadata": {
        "id": "olR8gTUvbL00"
      },
      "source": [
        "**2. Вычисли 95, 90 и 85 перцентили для наших данных с помощью колонки time_to_order.**\n",
        "   - Импортируй библиотеку `NumPy` и используй функцию перцентиля из нее.\n",
        "   - Какой перцентиль соответствует недельному окну конверсии? \n",
        "   - Запиши это значение в отдельную переменную `perc_X`, где Х — это выбранный тобой процент, а значение переменной – значение перцентиля, т. е. количество дней, которое избирается в качестве окна конверсии. \n",
        "   - Округли значение до 1 знака после запятой."
      ]
    },
    {
      "cell_type": "code",
      "metadata": {
        "id": "5uiFILNtbL01"
      },
      "source": [
        "import numpy as np"
      ],
      "execution_count": 9,
      "outputs": []
    },
    {
      "cell_type": "code",
      "source": [
        "perc_90=round(np.percentile(historical_data['time_to_order'], 90),1)"
      ],
      "metadata": {
        "id": "eEGSxEupg1F-"
      },
      "execution_count": 14,
      "outputs": []
    },
    {
      "cell_type": "code",
      "source": [
        "perc_90"
      ],
      "metadata": {
        "colab": {
          "base_uri": "https://localhost:8080/"
        },
        "id": "zFlCNuQNhcDV",
        "outputId": "cc2d9998-75bb-412e-c496-995ab728120c"
      },
      "execution_count": 15,
      "outputs": [
        {
          "output_type": "execute_result",
          "data": {
            "text/plain": [
              "2.9"
            ]
          },
          "metadata": {},
          "execution_count": 15
        }
      ]
    },
    {
      "cell_type": "markdown",
      "metadata": {
        "id": "SRawyRWsbL02"
      },
      "source": [
        "**3. Построй гистограмму распределения времени между первым заходом на сайт и покупкой.** \n",
        "   - Передай функции графика в аргумент данные о времени конверсии\n",
        "   - Назови график и оси\n",
        "   - Вертикальной пунктирной линией отметь значение выбранного тобой перцентиля. \n",
        "   - Выведи значение перцентиля в легенду. \n",
        "*Можешь использовать `seaborn` или `matplotlib`, как тебе удобнее.*"
      ]
    },
    {
      "cell_type": "code",
      "metadata": {
        "id": "z0Ie-hfKbL02"
      },
      "source": [
        "import seaborn as sns \n",
        "import matplotlib.pyplot as plt"
      ],
      "execution_count": 16,
      "outputs": []
    },
    {
      "cell_type": "code",
      "metadata": {
        "id": "UMNd1kw3bL03"
      },
      "source": [
        "label = f'90-ый перцентиль – {perc_90} дней'"
      ],
      "execution_count": 17,
      "outputs": []
    },
    {
      "cell_type": "code",
      "source": [
        "plt.figure(figsize=(16,9))\n",
        "sns.distplot(historical_data['time_to_order'])\n",
        "plt.vlines(perc_90, ymin = 0, ymax = 1, linestyles = 'dashed', label = f'90-ый перцентиль – {perc_90} дней')\n",
        "plt.title('Распределение времени между первым заходом на сайт и покупкой')\n",
        "plt.xlabel('Количество дней')\n",
        "plt.ylabel('Количество пользователей')\n",
        "plt.legend()\n",
        "plt.show()"
      ],
      "metadata": {
        "colab": {
          "base_uri": "https://localhost:8080/",
          "height": 622
        },
        "id": "0AvFDwTrhwXF",
        "outputId": "d38a8b00-d398-452d-abb1-96ef54e53dae"
      },
      "execution_count": 19,
      "outputs": [
        {
          "output_type": "stream",
          "name": "stderr",
          "text": [
            "/usr/local/lib/python3.7/dist-packages/seaborn/distributions.py:2619: FutureWarning: `distplot` is a deprecated function and will be removed in a future version. Please adapt your code to use either `displot` (a figure-level function with similar flexibility) or `histplot` (an axes-level function for histograms).\n",
            "  warnings.warn(msg, FutureWarning)\n"
          ]
        },
        {
          "output_type": "display_data",
          "data": {
            "image/png": "[encoded data removed]",
            "text/plain": [
              "<Figure size 1152x648 with 1 Axes>"
            ]
          },
          "metadata": {
            "needs_background": "light"
          }
        }
      ]
    },
    {
      "cell_type": "markdown",
      "metadata": {
        "id": "3nsIxdYObL03"
      },
      "source": [
        "## Задание 2. Исследуй распределение пользователей по группам по основным сегментам \n",
        "\n",
        "**1. Прочитай файл bakery_ab_test.csv.**\n",
        "   - Проверь, импортированы ли нужные тебе библиотеки.\n",
        "   - Запиши данные в переменную `data`. \n",
        "   - Назначь индекс аналогично первому заданию."
      ]
    },
    {
      "cell_type": "code",
      "metadata": {
        "id": "-l6Y90j6bL03"
      },
      "source": [
        "data = pd.read_csv('/content/drive/MyDrive/Самообразование/Skypro/Занятие 6 Анализ AB-тестов/Материалы для домашки/bakery_ab_test.csv', index_col = 0)"
      ],
      "execution_count": 20,
      "outputs": []
    },
    {
      "cell_type": "code",
      "source": [
        "data"
      ],
      "metadata": {
        "colab": {
          "base_uri": "https://localhost:8080/",
          "height": 424
        },
        "id": "-twp508vib47",
        "outputId": "bec04c7a-72d6-4221-e06b-88c6a7de302f"
      },
      "execution_count": 21,
      "outputs": [
        {
          "output_type": "execute_result",
          "data": {
            "text/html": [
              "\n",
              "  <div id=\"df-84b87dad-7cc1-4db7-a42d-6c49118f1c6d\">\n",
              "    <div class=\"colab-df-container\">\n",
              "      <div>\n",
              "<style scoped>\n",
              "    .dataframe tbody tr th:only-of-type {\n",
              "        vertical-align: middle;\n",
              "    }\n",
              "\n",
              "    .dataframe tbody tr th {\n",
              "        vertical-align: top;\n",
              "    }\n",
              "\n",
              "    .dataframe thead th {\n",
              "        text-align: right;\n",
              "    }\n",
              "</style>\n",
              "<table border=\"1\" class=\"dataframe\">\n",
              "  <thead>\n",
              "    <tr style=\"text-align: right;\">\n",
              "      <th></th>\n",
              "      <th>user_id</th>\n",
              "      <th>test_group</th>\n",
              "      <th>purchase_amount</th>\n",
              "      <th>geo_group</th>\n",
              "      <th>acquisition_channel</th>\n",
              "      <th>within_window</th>\n",
              "      <th>platform</th>\n",
              "    </tr>\n",
              "  </thead>\n",
              "  <tbody>\n",
              "    <tr>\n",
              "      <th>1</th>\n",
              "      <td>3738</td>\n",
              "      <td>test</td>\n",
              "      <td>306.639511</td>\n",
              "      <td>regions</td>\n",
              "      <td>target_direct</td>\n",
              "      <td>1</td>\n",
              "      <td>pc</td>\n",
              "    </tr>\n",
              "    <tr>\n",
              "      <th>2</th>\n",
              "      <td>3755</td>\n",
              "      <td>control</td>\n",
              "      <td>NaN</td>\n",
              "      <td>regions</td>\n",
              "      <td>target_direct</td>\n",
              "      <td>0</td>\n",
              "      <td>pc</td>\n",
              "    </tr>\n",
              "    <tr>\n",
              "      <th>3</th>\n",
              "      <td>3772</td>\n",
              "      <td>test</td>\n",
              "      <td>NaN</td>\n",
              "      <td>regions</td>\n",
              "      <td>context_brand</td>\n",
              "      <td>0</td>\n",
              "      <td>mobile</td>\n",
              "    </tr>\n",
              "    <tr>\n",
              "      <th>4</th>\n",
              "      <td>3789</td>\n",
              "      <td>control</td>\n",
              "      <td>NaN</td>\n",
              "      <td>spb</td>\n",
              "      <td>target_direct</td>\n",
              "      <td>0</td>\n",
              "      <td>pc</td>\n",
              "    </tr>\n",
              "    <tr>\n",
              "      <th>5</th>\n",
              "      <td>3806</td>\n",
              "      <td>test</td>\n",
              "      <td>NaN</td>\n",
              "      <td>regions</td>\n",
              "      <td>social_media</td>\n",
              "      <td>0</td>\n",
              "      <td>pc</td>\n",
              "    </tr>\n",
              "    <tr>\n",
              "      <th>...</th>\n",
              "      <td>...</td>\n",
              "      <td>...</td>\n",
              "      <td>...</td>\n",
              "      <td>...</td>\n",
              "      <td>...</td>\n",
              "      <td>...</td>\n",
              "      <td>...</td>\n",
              "    </tr>\n",
              "    <tr>\n",
              "      <th>152995</th>\n",
              "      <td>2604636</td>\n",
              "      <td>test</td>\n",
              "      <td>NaN</td>\n",
              "      <td>regions</td>\n",
              "      <td>target_direct</td>\n",
              "      <td>0</td>\n",
              "      <td>pc</td>\n",
              "    </tr>\n",
              "    <tr>\n",
              "      <th>152996</th>\n",
              "      <td>2604653</td>\n",
              "      <td>control</td>\n",
              "      <td>5236.818309</td>\n",
              "      <td>regions</td>\n",
              "      <td>organic</td>\n",
              "      <td>1</td>\n",
              "      <td>mobile</td>\n",
              "    </tr>\n",
              "    <tr>\n",
              "      <th>152997</th>\n",
              "      <td>2604670</td>\n",
              "      <td>control</td>\n",
              "      <td>NaN</td>\n",
              "      <td>regions</td>\n",
              "      <td>target_direct</td>\n",
              "      <td>0</td>\n",
              "      <td>pc</td>\n",
              "    </tr>\n",
              "    <tr>\n",
              "      <th>152998</th>\n",
              "      <td>2604687</td>\n",
              "      <td>control</td>\n",
              "      <td>101.783032</td>\n",
              "      <td>regions</td>\n",
              "      <td>target_direct</td>\n",
              "      <td>1</td>\n",
              "      <td>pc</td>\n",
              "    </tr>\n",
              "    <tr>\n",
              "      <th>152999</th>\n",
              "      <td>2604704</td>\n",
              "      <td>test</td>\n",
              "      <td>NaN</td>\n",
              "      <td>msk</td>\n",
              "      <td>social_media</td>\n",
              "      <td>0</td>\n",
              "      <td>pc</td>\n",
              "    </tr>\n",
              "  </tbody>\n",
              "</table>\n",
              "<p>150483 rows × 7 columns</p>\n",
              "</div>\n",
              "      <button class=\"colab-df-convert\" onclick=\"convertToInteractive('df-84b87dad-7cc1-4db7-a42d-6c49118f1c6d')\"\n",
              "              title=\"Convert this dataframe to an interactive table.\"\n",
              "              style=\"display:none;\">\n",
              "        \n",
              "  <svg xmlns=\"http://www.w3.org/2000/svg\" height=\"24px\"viewBox=\"0 0 24 24\"\n",
              "       width=\"24px\">\n",
              "    <path d=\"M0 0h24v24H0V0z\" fill=\"none\"/>\n",
              "    <path d=\"M18.56 5.44l.94 2.06.94-2.06 2.06-.94-2.06-.94-.94-2.06-.94 2.06-2.06.94zm-11 1L8.5 8.5l.94-2.06 2.06-.94-2.06-.94L8.5 2.5l-.94 2.06-2.06.94zm10 10l.94 2.06.94-2.06 2.06-.94-2.06-.94-.94-2.06-.94 2.06-2.06.94z\"/><path d=\"M17.41 7.96l-1.37-1.37c-.4-.4-.92-.59-1.43-.59-.52 0-1.04.2-1.43.59L10.3 9.45l-7.72 7.72c-.78.78-.78 2.05 0 2.83L4 21.41c.39.39.9.59 1.41.59.51 0 1.02-.2 1.41-.59l7.78-7.78 2.81-2.81c.8-.78.8-2.07 0-2.86zM5.41 20L4 18.59l7.72-7.72 1.47 1.35L5.41 20z\"/>\n",
              "  </svg>\n",
              "      </button>\n",
              "      \n",
              "  <style>\n",
              "    .colab-df-container {\n",
              "      display:flex;\n",
              "      flex-wrap:wrap;\n",
              "      gap: 12px;\n",
              "    }\n",
              "\n",
              "    .colab-df-convert {\n",
              "      background-color: #E8F0FE;\n",
              "      border: none;\n",
              "      border-radius: 50%;\n",
              "      cursor: pointer;\n",
              "      display: none;\n",
              "      fill: #1967D2;\n",
              "      height: 32px;\n",
              "      padding: 0 0 0 0;\n",
              "      width: 32px;\n",
              "    }\n",
              "\n",
              "    .colab-df-convert:hover {\n",
              "      background-color: #E2EBFA;\n",
              "      box-shadow: 0px 1px 2px rgba(60, 64, 67, 0.3), 0px 1px 3px 1px rgba(60, 64, 67, 0.15);\n",
              "      fill: #174EA6;\n",
              "    }\n",
              "\n",
              "    [theme=dark] .colab-df-convert {\n",
              "      background-color: #3B4455;\n",
              "      fill: #D2E3FC;\n",
              "    }\n",
              "\n",
              "    [theme=dark] .colab-df-convert:hover {\n",
              "      background-color: #434B5C;\n",
              "      box-shadow: 0px 1px 3px 1px rgba(0, 0, 0, 0.15);\n",
              "      filter: drop-shadow(0px 1px 2px rgba(0, 0, 0, 0.3));\n",
              "      fill: #FFFFFF;\n",
              "    }\n",
              "  </style>\n",
              "\n",
              "      <script>\n",
              "        const buttonEl =\n",
              "          document.querySelector('#df-84b87dad-7cc1-4db7-a42d-6c49118f1c6d button.colab-df-convert');\n",
              "        buttonEl.style.display =\n",
              "          google.colab.kernel.accessAllowed ? 'block' : 'none';\n",
              "\n",
              "        async function convertToInteractive(key) {\n",
              "          const element = document.querySelector('#df-84b87dad-7cc1-4db7-a42d-6c49118f1c6d');\n",
              "          const dataTable =\n",
              "            await google.colab.kernel.invokeFunction('convertToInteractive',\n",
              "                                                     [key], {});\n",
              "          if (!dataTable) return;\n",
              "\n",
              "          const docLinkHtml = 'Like what you see? Visit the ' +\n",
              "            '<a target=\"_blank\" href=https://colab.research.google.com/notebooks/data_table.ipynb>data table notebook</a>'\n",
              "            + ' to learn more about interactive tables.';\n",
              "          element.innerHTML = '';\n",
              "          dataTable['output_type'] = 'display_data';\n",
              "          await google.colab.output.renderOutput(dataTable, element);\n",
              "          const docLink = document.createElement('div');\n",
              "          docLink.innerHTML = docLinkHtml;\n",
              "          element.appendChild(docLink);\n",
              "        }\n",
              "      </script>\n",
              "    </div>\n",
              "  </div>\n",
              "  "
            ],
            "text/plain": [
              "        user_id test_group  ...  within_window platform\n",
              "1          3738       test  ...              1       pc\n",
              "2          3755    control  ...              0       pc\n",
              "3          3772       test  ...              0   mobile\n",
              "4          3789    control  ...              0       pc\n",
              "5          3806       test  ...              0       pc\n",
              "...         ...        ...  ...            ...      ...\n",
              "152995  2604636       test  ...              0       pc\n",
              "152996  2604653    control  ...              1   mobile\n",
              "152997  2604670    control  ...              0       pc\n",
              "152998  2604687    control  ...              1       pc\n",
              "152999  2604704       test  ...              0       pc\n",
              "\n",
              "[150483 rows x 7 columns]"
            ]
          },
          "metadata": {},
          "execution_count": 21
        }
      ]
    },
    {
      "cell_type": "markdown",
      "metadata": {
        "id": "BySl6id7bL04"
      },
      "source": [
        "**2. Напиши функцию plot_segment_distribution, чтобы проверить распределение пользователей по сегментам внутри каждой группы.**\n",
        "   - Аргументами функции должны быть данные теста, колонки с сегментами (маркетинг, гео и платформа), тест-фактор.\n",
        "   - Для каждого сегмента в функции агрегируй данные, посчитав по для каждой группы и сегмента количество пользователей.\n",
        "   - Сбрость индекс.\n",
        "   - Добавь в функцию построение столбиковой диаграммы (bar chart)."
      ]
    },
    {
      "cell_type": "code",
      "metadata": {
        "id": "XJowVpQjbL04"
      },
      "source": [
        "def plot_segments_distribution(df, segment_columns, test_factor):\n",
        "    for segment in segment_columns:\n",
        "        aggregated_data = df.groupby(by = [test_factor, segment])['user_id'].count().reset_index()\n",
        "        sns.catplot(x = segment, \n",
        "                    y = 'user_id', \n",
        "                    hue = test_factor, # сообщаем, что хотим, чтобы разные группы имели разный цвет\n",
        "                    data = aggregated_data, \n",
        "                    kind = \"bar\", \n",
        "                    height = 4, # задаем размер графика \n",
        "                    aspect = 1.5) # задаем ширину столбца"
      ],
      "execution_count": 24,
      "outputs": []
    },
    {
      "cell_type": "markdown",
      "metadata": {
        "id": "_miaIvPmbL05"
      },
      "source": [
        "**3. Вызови функцию и посмотри на графики. Какой вывод о качестве сплитования ты можешь сделать?**\n",
        "    — Передай списком столбцы, в которых обозначены сегменты пользователей, и отдельно столбец с тест-фактором."
      ]
    },
    {
      "cell_type": "code",
      "metadata": {
        "id": "0e90OJ0YbL05",
        "colab": {
          "base_uri": "https://localhost:8080/",
          "height": 577
        },
        "outputId": "8f8a5ee0-a0d0-404b-e191-d46b0e45c282"
      },
      "source": [
        "plot_segments_distribution(data, #датафрейм\n",
        "                           [\"geo_group\", \"acquisition_channel\"], #сегменты\n",
        "                           \"test_group\") #тест-фактор"
      ],
      "execution_count": 25,
      "outputs": [
        {
          "output_type": "display_data",
          "data": {
            "image/png": "[encoded data removed]",
            "text/plain": [
              "<Figure size 502.5x288 with 1 Axes>"
            ]
          },
          "metadata": {
            "needs_background": "light"
          }
        },
        {
          "output_type": "display_data",
          "data": {
            "image/png": "[encoded data removed]",
            "text/plain": [
              "<Figure size 502.5x288 with 1 Axes>"
            ]
          },
          "metadata": {
            "needs_background": "light"
          }
        }
      ]
    },
    {
      "cell_type": "markdown",
      "metadata": {
        "id": "8jAA6GdHbL05"
      },
      "source": [
        "## Задание 3. Используй критерий Хи-квадрат для конверсии\n"
      ]
    },
    {
      "cell_type": "markdown",
      "metadata": {
        "id": "ixJWxL_JbL06"
      },
      "source": [
        "В прошлом задании ты, скорее всего, столкнулся с неравномерным распределением пользователей. Раньше мы просто перезапускали тест, чтобы собрать данные, но сейчас тест уже завершен, так что нам нужно анализировать те данные, которые есть. Мы не можем исправить данные, но можем проанализировать общие результаты и сравнить их с результатами для пользователей, зашедших с разных платформ, чтобы уменьшить риск принятия ошибочного решения. Поэтому дальше мы будем анализировать параллельно 3 теста:\n",
        "\n",
        "1. Все пользователи, попавшие в тест\n",
        "2. Пользователи, заходившие с ПК `platform = 'pc'`\n",
        "3. Пользователи, заходившие с мобильного `platform = 'mobile'`"
      ]
    },
    {
      "cell_type": "markdown",
      "metadata": {
        "id": "x2DlXIbDbL07"
      },
      "source": [
        "**Создай для каждой из 3 групп теста отдельную таблицу с метриками**\n",
        "   - общее количество пользователей \n",
        "   - количество покупок в окне конверсии\n",
        "   - средняя сумма покупки \n",
        "   - конверсия (количество покупок в окне конверсии / общее количество пользователей или среднее по полю `within_window`)\n",
        "    \n",
        "*Для фильтрации нужных пользователей можешь использовать* `loc[ ]`\n"
      ]
    },
    {
      "cell_type": "code",
      "metadata": {
        "id": "yicAUBtnbL07"
      },
      "source": [
        "metrics = data.groupby('test_group', as_index= False).agg({'user_id': 'count', 'within_window': 'sum'})\n",
        "metrics['conversion'] = round(metrics['within_window']/metrics['user_id']*100, 2)"
      ],
      "execution_count": 28,
      "outputs": []
    },
    {
      "cell_type": "code",
      "source": [
        "metrics"
      ],
      "metadata": {
        "colab": {
          "base_uri": "https://localhost:8080/",
          "height": 112
        },
        "id": "W02C5ir6ksKQ",
        "outputId": "7bfadf95-ed5e-41f9-8913-b5b2c6438c68"
      },
      "execution_count": 29,
      "outputs": [
        {
          "output_type": "execute_result",
          "data": {
            "text/html": [
              "\n",
              "  <div id=\"df-a16b245c-4c0d-4d54-9930-c9b40d3f742f\">\n",
              "    <div class=\"colab-df-container\">\n",
              "      <div>\n",
              "<style scoped>\n",
              "    .dataframe tbody tr th:only-of-type {\n",
              "        vertical-align: middle;\n",
              "    }\n",
              "\n",
              "    .dataframe tbody tr th {\n",
              "        vertical-align: top;\n",
              "    }\n",
              "\n",
              "    .dataframe thead th {\n",
              "        text-align: right;\n",
              "    }\n",
              "</style>\n",
              "<table border=\"1\" class=\"dataframe\">\n",
              "  <thead>\n",
              "    <tr style=\"text-align: right;\">\n",
              "      <th></th>\n",
              "      <th>test_group</th>\n",
              "      <th>user_id</th>\n",
              "      <th>within_window</th>\n",
              "      <th>conversion</th>\n",
              "    </tr>\n",
              "  </thead>\n",
              "  <tbody>\n",
              "    <tr>\n",
              "      <th>0</th>\n",
              "      <td>control</td>\n",
              "      <td>75210</td>\n",
              "      <td>22998</td>\n",
              "      <td>30.58</td>\n",
              "    </tr>\n",
              "    <tr>\n",
              "      <th>1</th>\n",
              "      <td>test</td>\n",
              "      <td>75273</td>\n",
              "      <td>24427</td>\n",
              "      <td>32.45</td>\n",
              "    </tr>\n",
              "  </tbody>\n",
              "</table>\n",
              "</div>\n",
              "      <button class=\"colab-df-convert\" onclick=\"convertToInteractive('df-a16b245c-4c0d-4d54-9930-c9b40d3f742f')\"\n",
              "              title=\"Convert this dataframe to an interactive table.\"\n",
              "              style=\"display:none;\">\n",
              "        \n",
              "  <svg xmlns=\"http://www.w3.org/2000/svg\" height=\"24px\"viewBox=\"0 0 24 24\"\n",
              "       width=\"24px\">\n",
              "    <path d=\"M0 0h24v24H0V0z\" fill=\"none\"/>\n",
              "    <path d=\"M18.56 5.44l.94 2.06.94-2.06 2.06-.94-2.06-.94-.94-2.06-.94 2.06-2.06.94zm-11 1L8.5 8.5l.94-2.06 2.06-.94-2.06-.94L8.5 2.5l-.94 2.06-2.06.94zm10 10l.94 2.06.94-2.06 2.06-.94-2.06-.94-.94-2.06-.94 2.06-2.06.94z\"/><path d=\"M17.41 7.96l-1.37-1.37c-.4-.4-.92-.59-1.43-.59-.52 0-1.04.2-1.43.59L10.3 9.45l-7.72 7.72c-.78.78-.78 2.05 0 2.83L4 21.41c.39.39.9.59 1.41.59.51 0 1.02-.2 1.41-.59l7.78-7.78 2.81-2.81c.8-.78.8-2.07 0-2.86zM5.41 20L4 18.59l7.72-7.72 1.47 1.35L5.41 20z\"/>\n",
              "  </svg>\n",
              "      </button>\n",
              "      \n",
              "  <style>\n",
              "    .colab-df-container {\n",
              "      display:flex;\n",
              "      flex-wrap:wrap;\n",
              "      gap: 12px;\n",
              "    }\n",
              "\n",
              "    .colab-df-convert {\n",
              "      background-color: #E8F0FE;\n",
              "      border: none;\n",
              "      border-radius: 50%;\n",
              "      cursor: pointer;\n",
              "      display: none;\n",
              "      fill: #1967D2;\n",
              "      height: 32px;\n",
              "      padding: 0 0 0 0;\n",
              "      width: 32px;\n",
              "    }\n",
              "\n",
              "    .colab-df-convert:hover {\n",
              "      background-color: #E2EBFA;\n",
              "      box-shadow: 0px 1px 2px rgba(60, 64, 67, 0.3), 0px 1px 3px 1px rgba(60, 64, 67, 0.15);\n",
              "      fill: #174EA6;\n",
              "    }\n",
              "\n",
              "    [theme=dark] .colab-df-convert {\n",
              "      background-color: #3B4455;\n",
              "      fill: #D2E3FC;\n",
              "    }\n",
              "\n",
              "    [theme=dark] .colab-df-convert:hover {\n",
              "      background-color: #434B5C;\n",
              "      box-shadow: 0px 1px 3px 1px rgba(0, 0, 0, 0.15);\n",
              "      filter: drop-shadow(0px 1px 2px rgba(0, 0, 0, 0.3));\n",
              "      fill: #FFFFFF;\n",
              "    }\n",
              "  </style>\n",
              "\n",
              "      <script>\n",
              "        const buttonEl =\n",
              "          document.querySelector('#df-a16b245c-4c0d-4d54-9930-c9b40d3f742f button.colab-df-convert');\n",
              "        buttonEl.style.display =\n",
              "          google.colab.kernel.accessAllowed ? 'block' : 'none';\n",
              "\n",
              "        async function convertToInteractive(key) {\n",
              "          const element = document.querySelector('#df-a16b245c-4c0d-4d54-9930-c9b40d3f742f');\n",
              "          const dataTable =\n",
              "            await google.colab.kernel.invokeFunction('convertToInteractive',\n",
              "                                                     [key], {});\n",
              "          if (!dataTable) return;\n",
              "\n",
              "          const docLinkHtml = 'Like what you see? Visit the ' +\n",
              "            '<a target=\"_blank\" href=https://colab.research.google.com/notebooks/data_table.ipynb>data table notebook</a>'\n",
              "            + ' to learn more about interactive tables.';\n",
              "          element.innerHTML = '';\n",
              "          dataTable['output_type'] = 'display_data';\n",
              "          await google.colab.output.renderOutput(dataTable, element);\n",
              "          const docLink = document.createElement('div');\n",
              "          docLink.innerHTML = docLinkHtml;\n",
              "          element.appendChild(docLink);\n",
              "        }\n",
              "      </script>\n",
              "    </div>\n",
              "  </div>\n",
              "  "
            ],
            "text/plain": [
              "  test_group  user_id  within_window  conversion\n",
              "0    control    75210          22998       30.58\n",
              "1       test    75273          24427       32.45"
            ]
          },
          "metadata": {},
          "execution_count": 29
        }
      ]
    },
    {
      "cell_type": "code",
      "source": [
        "datapc=data.loc[data['platform'].isin(['pc'])]"
      ],
      "metadata": {
        "id": "D34iLJsslKuv"
      },
      "execution_count": 31,
      "outputs": []
    },
    {
      "cell_type": "code",
      "metadata": {
        "id": "dAdU8YspbL07",
        "colab": {
          "base_uri": "https://localhost:8080/",
          "height": 112
        },
        "outputId": "cf96a635-6dc9-4369-8437-c34017733659"
      },
      "source": [
        "metrics_pc = datapc.groupby('test_group', as_index= False).agg({'user_id': 'count', 'within_window': 'sum'})\n",
        "metrics_pc['conversion'] = round(metrics_pc['within_window']/metrics_pc['user_id']*100, 2)\n",
        "metrics_pc"
      ],
      "execution_count": 32,
      "outputs": [
        {
          "output_type": "execute_result",
          "data": {
            "text/html": [
              "\n",
              "  <div id=\"df-5baaacfb-2330-4544-9945-be7c0107e695\">\n",
              "    <div class=\"colab-df-container\">\n",
              "      <div>\n",
              "<style scoped>\n",
              "    .dataframe tbody tr th:only-of-type {\n",
              "        vertical-align: middle;\n",
              "    }\n",
              "\n",
              "    .dataframe tbody tr th {\n",
              "        vertical-align: top;\n",
              "    }\n",
              "\n",
              "    .dataframe thead th {\n",
              "        text-align: right;\n",
              "    }\n",
              "</style>\n",
              "<table border=\"1\" class=\"dataframe\">\n",
              "  <thead>\n",
              "    <tr style=\"text-align: right;\">\n",
              "      <th></th>\n",
              "      <th>test_group</th>\n",
              "      <th>user_id</th>\n",
              "      <th>within_window</th>\n",
              "      <th>conversion</th>\n",
              "    </tr>\n",
              "  </thead>\n",
              "  <tbody>\n",
              "    <tr>\n",
              "      <th>0</th>\n",
              "      <td>control</td>\n",
              "      <td>45112</td>\n",
              "      <td>13732</td>\n",
              "      <td>30.44</td>\n",
              "    </tr>\n",
              "    <tr>\n",
              "      <th>1</th>\n",
              "      <td>test</td>\n",
              "      <td>60317</td>\n",
              "      <td>19659</td>\n",
              "      <td>32.59</td>\n",
              "    </tr>\n",
              "  </tbody>\n",
              "</table>\n",
              "</div>\n",
              "      <button class=\"colab-df-convert\" onclick=\"convertToInteractive('df-5baaacfb-2330-4544-9945-be7c0107e695')\"\n",
              "              title=\"Convert this dataframe to an interactive table.\"\n",
              "              style=\"display:none;\">\n",
              "        \n",
              "  <svg xmlns=\"http://www.w3.org/2000/svg\" height=\"24px\"viewBox=\"0 0 24 24\"\n",
              "       width=\"24px\">\n",
              "    <path d=\"M0 0h24v24H0V0z\" fill=\"none\"/>\n",
              "    <path d=\"M18.56 5.44l.94 2.06.94-2.06 2.06-.94-2.06-.94-.94-2.06-.94 2.06-2.06.94zm-11 1L8.5 8.5l.94-2.06 2.06-.94-2.06-.94L8.5 2.5l-.94 2.06-2.06.94zm10 10l.94 2.06.94-2.06 2.06-.94-2.06-.94-.94-2.06-.94 2.06-2.06.94z\"/><path d=\"M17.41 7.96l-1.37-1.37c-.4-.4-.92-.59-1.43-.59-.52 0-1.04.2-1.43.59L10.3 9.45l-7.72 7.72c-.78.78-.78 2.05 0 2.83L4 21.41c.39.39.9.59 1.41.59.51 0 1.02-.2 1.41-.59l7.78-7.78 2.81-2.81c.8-.78.8-2.07 0-2.86zM5.41 20L4 18.59l7.72-7.72 1.47 1.35L5.41 20z\"/>\n",
              "  </svg>\n",
              "      </button>\n",
              "      \n",
              "  <style>\n",
              "    .colab-df-container {\n",
              "      display:flex;\n",
              "      flex-wrap:wrap;\n",
              "      gap: 12px;\n",
              "    }\n",
              "\n",
              "    .colab-df-convert {\n",
              "      background-color: #E8F0FE;\n",
              "      border: none;\n",
              "      border-radius: 50%;\n",
              "      cursor: pointer;\n",
              "      display: none;\n",
              "      fill: #1967D2;\n",
              "      height: 32px;\n",
              "      padding: 0 0 0 0;\n",
              "      width: 32px;\n",
              "    }\n",
              "\n",
              "    .colab-df-convert:hover {\n",
              "      background-color: #E2EBFA;\n",
              "      box-shadow: 0px 1px 2px rgba(60, 64, 67, 0.3), 0px 1px 3px 1px rgba(60, 64, 67, 0.15);\n",
              "      fill: #174EA6;\n",
              "    }\n",
              "\n",
              "    [theme=dark] .colab-df-convert {\n",
              "      background-color: #3B4455;\n",
              "      fill: #D2E3FC;\n",
              "    }\n",
              "\n",
              "    [theme=dark] .colab-df-convert:hover {\n",
              "      background-color: #434B5C;\n",
              "      box-shadow: 0px 1px 3px 1px rgba(0, 0, 0, 0.15);\n",
              "      filter: drop-shadow(0px 1px 2px rgba(0, 0, 0, 0.3));\n",
              "      fill: #FFFFFF;\n",
              "    }\n",
              "  </style>\n",
              "\n",
              "      <script>\n",
              "        const buttonEl =\n",
              "          document.querySelector('#df-5baaacfb-2330-4544-9945-be7c0107e695 button.colab-df-convert');\n",
              "        buttonEl.style.display =\n",
              "          google.colab.kernel.accessAllowed ? 'block' : 'none';\n",
              "\n",
              "        async function convertToInteractive(key) {\n",
              "          const element = document.querySelector('#df-5baaacfb-2330-4544-9945-be7c0107e695');\n",
              "          const dataTable =\n",
              "            await google.colab.kernel.invokeFunction('convertToInteractive',\n",
              "                                                     [key], {});\n",
              "          if (!dataTable) return;\n",
              "\n",
              "          const docLinkHtml = 'Like what you see? Visit the ' +\n",
              "            '<a target=\"_blank\" href=https://colab.research.google.com/notebooks/data_table.ipynb>data table notebook</a>'\n",
              "            + ' to learn more about interactive tables.';\n",
              "          element.innerHTML = '';\n",
              "          dataTable['output_type'] = 'display_data';\n",
              "          await google.colab.output.renderOutput(dataTable, element);\n",
              "          const docLink = document.createElement('div');\n",
              "          docLink.innerHTML = docLinkHtml;\n",
              "          element.appendChild(docLink);\n",
              "        }\n",
              "      </script>\n",
              "    </div>\n",
              "  </div>\n",
              "  "
            ],
            "text/plain": [
              "  test_group  user_id  within_window  conversion\n",
              "0    control    45112          13732       30.44\n",
              "1       test    60317          19659       32.59"
            ]
          },
          "metadata": {},
          "execution_count": 32
        }
      ]
    },
    {
      "cell_type": "code",
      "source": [
        "datamobile=data.loc[data['platform'].isin(['mobile'])]"
      ],
      "metadata": {
        "id": "YJXDNIgZlrxH"
      },
      "execution_count": 33,
      "outputs": []
    },
    {
      "cell_type": "code",
      "metadata": {
        "id": "j1bGG9yrbL08",
        "colab": {
          "base_uri": "https://localhost:8080/",
          "height": 112
        },
        "outputId": "66edd5d0-a9c1-4d99-d5c8-824c3bfcbbde"
      },
      "source": [
        "metrics_mobile = datamobile.groupby('test_group', as_index= False).agg({'user_id': 'count', 'within_window': 'sum'})\n",
        "metrics_mobile['conversion'] = round(metrics_mobile['within_window']/metrics_mobile['user_id']*100, 2)\n",
        "metrics_mobile"
      ],
      "execution_count": 34,
      "outputs": [
        {
          "output_type": "execute_result",
          "data": {
            "text/html": [
              "\n",
              "  <div id=\"df-7816cdaa-3009-4f9e-81ef-ef235f634c04\">\n",
              "    <div class=\"colab-df-container\">\n",
              "      <div>\n",
              "<style scoped>\n",
              "    .dataframe tbody tr th:only-of-type {\n",
              "        vertical-align: middle;\n",
              "    }\n",
              "\n",
              "    .dataframe tbody tr th {\n",
              "        vertical-align: top;\n",
              "    }\n",
              "\n",
              "    .dataframe thead th {\n",
              "        text-align: right;\n",
              "    }\n",
              "</style>\n",
              "<table border=\"1\" class=\"dataframe\">\n",
              "  <thead>\n",
              "    <tr style=\"text-align: right;\">\n",
              "      <th></th>\n",
              "      <th>test_group</th>\n",
              "      <th>user_id</th>\n",
              "      <th>within_window</th>\n",
              "      <th>conversion</th>\n",
              "    </tr>\n",
              "  </thead>\n",
              "  <tbody>\n",
              "    <tr>\n",
              "      <th>0</th>\n",
              "      <td>control</td>\n",
              "      <td>30098</td>\n",
              "      <td>9266</td>\n",
              "      <td>30.79</td>\n",
              "    </tr>\n",
              "    <tr>\n",
              "      <th>1</th>\n",
              "      <td>test</td>\n",
              "      <td>14956</td>\n",
              "      <td>4768</td>\n",
              "      <td>31.88</td>\n",
              "    </tr>\n",
              "  </tbody>\n",
              "</table>\n",
              "</div>\n",
              "      <button class=\"colab-df-convert\" onclick=\"convertToInteractive('df-7816cdaa-3009-4f9e-81ef-ef235f634c04')\"\n",
              "              title=\"Convert this dataframe to an interactive table.\"\n",
              "              style=\"display:none;\">\n",
              "        \n",
              "  <svg xmlns=\"http://www.w3.org/2000/svg\" height=\"24px\"viewBox=\"0 0 24 24\"\n",
              "       width=\"24px\">\n",
              "    <path d=\"M0 0h24v24H0V0z\" fill=\"none\"/>\n",
              "    <path d=\"M18.56 5.44l.94 2.06.94-2.06 2.06-.94-2.06-.94-.94-2.06-.94 2.06-2.06.94zm-11 1L8.5 8.5l.94-2.06 2.06-.94-2.06-.94L8.5 2.5l-.94 2.06-2.06.94zm10 10l.94 2.06.94-2.06 2.06-.94-2.06-.94-.94-2.06-.94 2.06-2.06.94z\"/><path d=\"M17.41 7.96l-1.37-1.37c-.4-.4-.92-.59-1.43-.59-.52 0-1.04.2-1.43.59L10.3 9.45l-7.72 7.72c-.78.78-.78 2.05 0 2.83L4 21.41c.39.39.9.59 1.41.59.51 0 1.02-.2 1.41-.59l7.78-7.78 2.81-2.81c.8-.78.8-2.07 0-2.86zM5.41 20L4 18.59l7.72-7.72 1.47 1.35L5.41 20z\"/>\n",
              "  </svg>\n",
              "      </button>\n",
              "      \n",
              "  <style>\n",
              "    .colab-df-container {\n",
              "      display:flex;\n",
              "      flex-wrap:wrap;\n",
              "      gap: 12px;\n",
              "    }\n",
              "\n",
              "    .colab-df-convert {\n",
              "      background-color: #E8F0FE;\n",
              "      border: none;\n",
              "      border-radius: 50%;\n",
              "      cursor: pointer;\n",
              "      display: none;\n",
              "      fill: #1967D2;\n",
              "      height: 32px;\n",
              "      padding: 0 0 0 0;\n",
              "      width: 32px;\n",
              "    }\n",
              "\n",
              "    .colab-df-convert:hover {\n",
              "      background-color: #E2EBFA;\n",
              "      box-shadow: 0px 1px 2px rgba(60, 64, 67, 0.3), 0px 1px 3px 1px rgba(60, 64, 67, 0.15);\n",
              "      fill: #174EA6;\n",
              "    }\n",
              "\n",
              "    [theme=dark] .colab-df-convert {\n",
              "      background-color: #3B4455;\n",
              "      fill: #D2E3FC;\n",
              "    }\n",
              "\n",
              "    [theme=dark] .colab-df-convert:hover {\n",
              "      background-color: #434B5C;\n",
              "      box-shadow: 0px 1px 3px 1px rgba(0, 0, 0, 0.15);\n",
              "      filter: drop-shadow(0px 1px 2px rgba(0, 0, 0, 0.3));\n",
              "      fill: #FFFFFF;\n",
              "    }\n",
              "  </style>\n",
              "\n",
              "      <script>\n",
              "        const buttonEl =\n",
              "          document.querySelector('#df-7816cdaa-3009-4f9e-81ef-ef235f634c04 button.colab-df-convert');\n",
              "        buttonEl.style.display =\n",
              "          google.colab.kernel.accessAllowed ? 'block' : 'none';\n",
              "\n",
              "        async function convertToInteractive(key) {\n",
              "          const element = document.querySelector('#df-7816cdaa-3009-4f9e-81ef-ef235f634c04');\n",
              "          const dataTable =\n",
              "            await google.colab.kernel.invokeFunction('convertToInteractive',\n",
              "                                                     [key], {});\n",
              "          if (!dataTable) return;\n",
              "\n",
              "          const docLinkHtml = 'Like what you see? Visit the ' +\n",
              "            '<a target=\"_blank\" href=https://colab.research.google.com/notebooks/data_table.ipynb>data table notebook</a>'\n",
              "            + ' to learn more about interactive tables.';\n",
              "          element.innerHTML = '';\n",
              "          dataTable['output_type'] = 'display_data';\n",
              "          await google.colab.output.renderOutput(dataTable, element);\n",
              "          const docLink = document.createElement('div');\n",
              "          docLink.innerHTML = docLinkHtml;\n",
              "          element.appendChild(docLink);\n",
              "        }\n",
              "      </script>\n",
              "    </div>\n",
              "  </div>\n",
              "  "
            ],
            "text/plain": [
              "  test_group  user_id  within_window  conversion\n",
              "0    control    30098           9266       30.79\n",
              "1       test    14956           4768       31.88"
            ]
          },
          "metadata": {},
          "execution_count": 34
        }
      ]
    },
    {
      "cell_type": "markdown",
      "metadata": {
        "id": "CqMnSwzvbL08"
      },
      "source": [
        "**1. Вычисли** `p-value` **для каждой группы с помощью теста хи-квадрат**\n",
        "\n",
        "   - Импортируй библиотеку `statsmodels` и используй функцию `proportions_chisquare` из нее\n",
        "   - Результат работы функции `proportions_chisquare` присвой трем переменным для каждой группы\n"
      ]
    },
    {
      "cell_type": "code",
      "metadata": {
        "id": "Q5J-6Z54bL08",
        "colab": {
          "base_uri": "https://localhost:8080/"
        },
        "outputId": "fc91a001-0aa3-42de-bd9d-05f817445bc8"
      },
      "source": [
        "import statsmodels.stats.proportion as proportion"
      ],
      "execution_count": 35,
      "outputs": [
        {
          "output_type": "stream",
          "name": "stderr",
          "text": [
            "/usr/local/lib/python3.7/dist-packages/statsmodels/tools/_testing.py:19: FutureWarning: pandas.util.testing is deprecated. Use the functions in the public API at pandas.testing instead.\n",
            "  import pandas.util.testing as tm\n"
          ]
        }
      ]
    },
    {
      "cell_type": "code",
      "metadata": {
        "id": "_w0kri_PbL0-"
      },
      "source": [
        "chi2stat, pval, table = proportion.proportions_chisquare(metrics['within_window'], metrics['user_id'])"
      ],
      "execution_count": 38,
      "outputs": []
    },
    {
      "cell_type": "code",
      "metadata": {
        "id": "WZHc1CEHbL0-"
      },
      "source": [
        "chi2stat_pc, pval_pc, table_pc = proportion.proportions_chisquare(metrics_pc['within_window'], metrics_pc['user_id'])"
      ],
      "execution_count": 41,
      "outputs": []
    },
    {
      "cell_type": "code",
      "metadata": {
        "id": "hu9CH3VFbL0_"
      },
      "source": [
        "chi2stat_mobile, pval_mobile, table_mobile = proportion.proportions_chisquare(metrics_mobile['within_window'], metrics_mobile['user_id'])"
      ],
      "execution_count": 42,
      "outputs": []
    },
    {
      "cell_type": "markdown",
      "metadata": {
        "id": "cbSeqgLkbL0_"
      },
      "source": [
        "**2. Введи в анализ уровень значимости в 5% с помощью переменной** `alpha`.\n"
      ]
    },
    {
      "cell_type": "code",
      "metadata": {
        "id": "YRT0d5F4bL0_"
      },
      "source": [
        "alpha = 0.05"
      ],
      "execution_count": 43,
      "outputs": []
    },
    {
      "cell_type": "code",
      "source": [
        "print(pval < alpha)"
      ],
      "metadata": {
        "colab": {
          "base_uri": "https://localhost:8080/"
        },
        "id": "lRppRk29nq2L",
        "outputId": "795d1503-d0b9-44b6-d64f-819b074c5025"
      },
      "execution_count": 44,
      "outputs": [
        {
          "output_type": "stream",
          "name": "stdout",
          "text": [
            "True\n"
          ]
        }
      ]
    },
    {
      "cell_type": "code",
      "source": [
        "print(pval_pc < alpha)"
      ],
      "metadata": {
        "colab": {
          "base_uri": "https://localhost:8080/"
        },
        "id": "R-ElXlDPnsGU",
        "outputId": "fe6caa5d-6dc7-4401-9d37-a8eff8bad4f3"
      },
      "execution_count": 46,
      "outputs": [
        {
          "output_type": "stream",
          "name": "stdout",
          "text": [
            "True\n"
          ]
        }
      ]
    },
    {
      "cell_type": "code",
      "source": [
        "print(pval_mobile < alpha)"
      ],
      "metadata": {
        "colab": {
          "base_uri": "https://localhost:8080/"
        },
        "id": "dVQPKP0RnzfD",
        "outputId": "75656752-456b-4bb9-97d2-f1655991b2fc"
      },
      "execution_count": 47,
      "outputs": [
        {
          "output_type": "stream",
          "name": "stdout",
          "text": [
            "True\n"
          ]
        }
      ]
    },
    {
      "cell_type": "markdown",
      "source": [
        "Статистическая значимость выше alpha. Нулевую гипотезу принимаем"
      ],
      "metadata": {
        "id": "9ZAXQb52n4tD"
      }
    },
    {
      "cell_type": "markdown",
      "metadata": {
        "id": "5HjWvrfObL1A"
      },
      "source": [
        "**3. Оставь комментарий, какой вывод о наличии статистически значимой в каждой группе разницы можно сделать? Что делаем с нулевой гипотезой?**"
      ]
    },
    {
      "cell_type": "markdown",
      "metadata": {
        "id": "aTrhi9zfbL1B"
      },
      "source": [
        "## Задание 4. Вычисли мощность теста\n",
        "\n",
        "1. Импортируй объект `stats.power` из библиотеки `statsmodels`\n",
        "2. Присвой функцию `GofChisquarePower()` из этой библиотеки в переменную `chipower` \n",
        "3. Реализуй функцию для подсчета `effect_size`"
      ]
    },
    {
      "cell_type": "code",
      "metadata": {
        "id": "-yk7MRcIbL1B"
      },
      "source": [
        "import statsmodels.stats.power as smp"
      ],
      "execution_count": 48,
      "outputs": []
    },
    {
      "cell_type": "code",
      "metadata": {
        "id": "-riu6DIdbL1C"
      },
      "source": [
        "chipower = smp.GofChisquarePower()"
      ],
      "execution_count": 49,
      "outputs": []
    },
    {
      "cell_type": "markdown",
      "metadata": {
        "id": "fPvQU-50bL1D"
      },
      "source": [
        "`effect_size` — это та самая наблюдаемая разница между двумя вариантами. Вычисляется следующим образом: \n",
        "\n",
        "$$ES = \\sqrt{(p_0 - p_1)^2/p_o}$$\n",
        "\n",
        ", где под $p_0$ можно понимать конверсию в контрольной группе, а $p_1$ — тестовой"
      ]
    },
    {
      "cell_type": "code",
      "metadata": {
        "id": "oKd-pOhNbL1H"
      },
      "source": [
        "def chi2_effect_size(p0, p1):\n",
        "    return np.sqrt(((p0 - p1)**2 / p0))"
      ],
      "execution_count": 58,
      "outputs": []
    },
    {
      "cell_type": "markdown",
      "metadata": {
        "id": "DNxX0FxlbL1I"
      },
      "source": [
        "4. Запиши значения конверсии в тестовой `conversion_test` и контрольной `conversion_control` группы в разные переменные\n",
        "    - переведи серию в массив с помощью `.values[ ]`\n",
        "    - раздели значения на 100, чтобы получить значения, а не %\n",
        "    \n",
        "    \n",
        "5. Создай переменную nobs для количества наблюдений и запиши в нее значение меньшей группы"
      ]
    },
    {
      "cell_type": "code",
      "source": [
        "conversion_test = metrics['conversion'].values[1]/100"
      ],
      "metadata": {
        "id": "2Y0RvBjfph9C"
      },
      "execution_count": 51,
      "outputs": []
    },
    {
      "cell_type": "code",
      "source": [
        "conversion_control= metrics['conversion'].values[0]/100"
      ],
      "metadata": {
        "id": "4ypndvPNq0Z3"
      },
      "execution_count": 53,
      "outputs": []
    },
    {
      "cell_type": "code",
      "source": [
        "nobs = min(metrics['user_id'])"
      ],
      "metadata": {
        "id": "gCkqzsdZq4XH"
      },
      "execution_count": 54,
      "outputs": []
    },
    {
      "cell_type": "code",
      "metadata": {
        "id": "GvXJIApvbL1K"
      },
      "source": [
        "conversion_control_mobile = metrics_mobile['conversion'].values[0]/100\n",
        "conversion_test_mobile = metrics_mobile['conversion'].values[1]/100\n",
        "nobs_mobile = min(metrics_mobile['user_id'])"
      ],
      "execution_count": 56,
      "outputs": []
    },
    {
      "cell_type": "code",
      "metadata": {
        "id": "uCdz925obL1K"
      },
      "source": [
        "conversion_control_pc = metrics_pc['conversion'].values[0]/100\n",
        "conversion_test_pc = metrics_pc['conversion'].values[1]/100\n",
        "nobs_pc = min(metrics_pc['user_id'])"
      ],
      "execution_count": 57,
      "outputs": []
    },
    {
      "cell_type": "markdown",
      "metadata": {
        "id": "_IYBUKzTbL1K"
      },
      "source": [
        "**6. Вызови функцию .solve_power и передай ей в аргументы** \n",
        "    - effect_size\n",
        "    - количество наблюдений меньшей группы\n",
        "    - значение p-value\n",
        "    - мощности присвой значение None\n",
        "    \n",
        "**7. Сделай анализ мощности для каждого сегмента, для которого делали тест хи-квадрат.**\n",
        "\n",
        "Оставь комментарий, как ты оцениваешь мощность этого теста? Можно ли на основе таких показателей делать выводы?\n"
      ]
    },
    {
      "cell_type": "code",
      "metadata": {
        "id": "iedF3DKybL1L"
      },
      "source": [
        "power = chipower.solve_power(effect_size = chi2_effect_size(conversion_control, conversion_test), # разница коэффициентов конверсии\n",
        "                                               nobs = nobs, # размер выборки\n",
        "                                               alpha = pval, # значение ошибки первого рода на наших данных\n",
        "                                               power = None) # функция вернет значение, указаное как None)"
      ],
      "execution_count": 63,
      "outputs": []
    },
    {
      "cell_type": "code",
      "source": [
        "power"
      ],
      "metadata": {
        "colab": {
          "base_uri": "https://localhost:8080/"
        },
        "id": "IdMzJB4Ur6R9",
        "outputId": "86b48f0a-9eb7-4db0-e81e-feb555f7c07e"
      },
      "execution_count": 64,
      "outputs": [
        {
          "output_type": "execute_result",
          "data": {
            "text/plain": [
              "0.9271367916086635"
            ]
          },
          "metadata": {},
          "execution_count": 64
        }
      ]
    },
    {
      "cell_type": "code",
      "metadata": {
        "id": "N5BqF4yYbL1L"
      },
      "source": [
        "mobile_power = chipower.solve_power(effect_size = chi2_effect_size(conversion_control_mobile, conversion_test_mobile), # разница коэффициентов конверсии\n",
        "                                               nobs = nobs_mobile, # размер выборки\n",
        "                                               alpha = pval_mobile, # значение ошибки первого рода на наших данных\n",
        "                                               power = None) # функция вернет значение, указаное как None)"
      ],
      "execution_count": 65,
      "outputs": []
    },
    {
      "cell_type": "code",
      "source": [
        "mobile_power"
      ],
      "metadata": {
        "colab": {
          "base_uri": "https://localhost:8080/"
        },
        "id": "-JEseGXBsWid",
        "outputId": "12f13c4a-94a1-4e81-df70-6e98ef17bef9"
      },
      "execution_count": 66,
      "outputs": [
        {
          "output_type": "execute_result",
          "data": {
            "text/plain": [
              "0.51629109023244"
            ]
          },
          "metadata": {},
          "execution_count": 66
        }
      ]
    },
    {
      "cell_type": "code",
      "metadata": {
        "id": "EkzdB9swbL1L"
      },
      "source": [
        "pc_power = chipower.solve_power(effect_size = chi2_effect_size(conversion_control_pc, conversion_test_pc), # разница коэффициентов конверсии\n",
        "                                               nobs = nobs_pc, # размер выборки\n",
        "                                               alpha = pval_pc, # значение ошибки первого рода на наших данных\n",
        "                                               power = None) # функция вернет значение, указаное как None)"
      ],
      "execution_count": 67,
      "outputs": []
    },
    {
      "cell_type": "code",
      "source": [
        "pc_power"
      ],
      "metadata": {
        "colab": {
          "base_uri": "https://localhost:8080/"
        },
        "id": "u_DBYIJEskR9",
        "outputId": "9ec00f83-d177-43e3-e30c-23417ed8eaf4"
      },
      "execution_count": 68,
      "outputs": [
        {
          "output_type": "execute_result",
          "data": {
            "text/plain": [
              "0.799977119744526"
            ]
          },
          "metadata": {},
          "execution_count": 68
        }
      ]
    },
    {
      "cell_type": "markdown",
      "metadata": {
        "id": "lYlqrjkLbL1M"
      },
      "source": [
        "## Задание 5. Воспользуйся бутстрапом для оценки влияния теста на средний чек"
      ]
    },
    {
      "cell_type": "markdown",
      "metadata": {
        "id": "cAEEwfC1bL1N"
      },
      "source": [
        "**1. Сделай бутстрап среднего чека для тестовой и контрольной выборок, визуализируй результат. Какие выводы можно сделать?**\n",
        "   - загрузи нужные модули из библиотеки `bootstrapped`\n",
        "   - для сегментов, которые мы анализируем отдельно, создай переменную со значением среднего чека\n",
        "   - чтобы убрать строки без покупок, используй `dropna()` и `.values`, чтобы перевести данные в формат массива"
      ]
    },
    {
      "cell_type": "code",
      "source": [
        "!pip install bootstrapped"
      ],
      "metadata": {
        "colab": {
          "base_uri": "https://localhost:8080/"
        },
        "id": "q33DGb4Ts4fj",
        "outputId": "4df765ff-530b-4d4a-a7b0-c3b25b883371"
      },
      "execution_count": 70,
      "outputs": [
        {
          "output_type": "stream",
          "name": "stdout",
          "text": [
            "Collecting bootstrapped\n",
            "  Downloading bootstrapped-0.0.2.tar.gz (11 kB)\n",
            "Requirement already satisfied: matplotlib>=1.5.3 in /usr/local/lib/python3.7/dist-packages (from bootstrapped) (3.2.2)\n",
            "Requirement already satisfied: numpy>=1.11.1 in /usr/local/lib/python3.7/dist-packages (from bootstrapped) (1.19.5)\n",
            "Requirement already satisfied: pandas>=0.18.1 in /usr/local/lib/python3.7/dist-packages (from bootstrapped) (1.1.5)\n",
            "Requirement already satisfied: pyparsing!=2.0.4,!=2.1.2,!=2.1.6,>=2.0.1 in /usr/local/lib/python3.7/dist-packages (from matplotlib>=1.5.3->bootstrapped) (3.0.6)\n",
            "Requirement already satisfied: kiwisolver>=1.0.1 in /usr/local/lib/python3.7/dist-packages (from matplotlib>=1.5.3->bootstrapped) (1.3.2)\n",
            "Requirement already satisfied: cycler>=0.10 in /usr/local/lib/python3.7/dist-packages (from matplotlib>=1.5.3->bootstrapped) (0.11.0)\n",
            "Requirement already satisfied: python-dateutil>=2.1 in /usr/local/lib/python3.7/dist-packages (from matplotlib>=1.5.3->bootstrapped) (2.8.2)\n",
            "Requirement already satisfied: pytz>=2017.2 in /usr/local/lib/python3.7/dist-packages (from pandas>=0.18.1->bootstrapped) (2018.9)\n",
            "Requirement already satisfied: six>=1.5 in /usr/local/lib/python3.7/dist-packages (from python-dateutil>=2.1->matplotlib>=1.5.3->bootstrapped) (1.15.0)\n",
            "Building wheels for collected packages: bootstrapped\n",
            "  Building wheel for bootstrapped (setup.py) ... \u001b[?25l\u001b[?25hdone\n",
            "  Created wheel for bootstrapped: filename=bootstrapped-0.0.2-py2.py3-none-any.whl size=13954 sha256=c9c74e4f7c6dec1d65fef19c1e6f88c828059fd284de51bf520c8b8ebb35653d\n",
            "  Stored in directory: /root/.cache/pip/wheels/15/55/6a/9a722f067ac4c3dfab359ed2ec7906b9cc6649156d9886bd59\n",
            "Successfully built bootstrapped\n",
            "Installing collected packages: bootstrapped\n",
            "Successfully installed bootstrapped-0.0.2\n"
          ]
        }
      ]
    },
    {
      "cell_type": "code",
      "metadata": {
        "id": "HiFX2R0DbL1O"
      },
      "source": [
        "# импортируем необходимые модули\n",
        "import bootstrapped.bootstrap as bs\n",
        "import bootstrapped.stats_functions as bs_stats\n",
        "import bootstrapped.compare_functions as bs_compare\n",
        "import numpy as np"
      ],
      "execution_count": 71,
      "outputs": []
    },
    {
      "cell_type": "code",
      "metadata": {
        "id": "Q4QY9KlEbL1O"
      },
      "source": [
        "test = data[data['test_group'] == 'test']['purchase_amount'].dropna().values\n",
        "control = data[data['test_group'] == 'control']['purchase_amount'].dropna().values\n",
        "\n",
        "test_pc = datapc[datapc['test_group'] == 'test']['purchase_amount'].dropna().values\n",
        "control_pc = datapc[datapc['test_group'] == 'control']['purchase_amount'].dropna().values\n",
        "\n",
        "test_mobile = datamobile[datamobile['test_group'] == 'test']['purchase_amount'].dropna().values\n",
        "control_mobile = datamobile[datamobile['test_group'] == 'control']['purchase_amount'].dropna().values"
      ],
      "execution_count": 73,
      "outputs": []
    },
    {
      "cell_type": "markdown",
      "metadata": {
        "id": "2kZnidOtbL1P"
      },
      "source": [
        "**2. Вызови функцию `bootstrap_ab` для каждого сегмента, передай ей нужные аргументы**\n",
        "   - `test = `\n",
        "   - `ctrl = `\n",
        "   - `stat_func = bs_stats.mean`\n",
        "   - `compare_func = bs_compare.difference`\n",
        "   - `return_distribution = True`"
      ]
    },
    {
      "cell_type": "code",
      "metadata": {
        "id": "_3d_VHvpbL1P"
      },
      "source": [
        "boot = bs.bootstrap_ab(test = test, ctrl = control\n",
        "                              , stat_func = bs_stats.mean\n",
        "                              , compare_func = bs_compare.difference\n",
        "                              , return_distribution=True)"
      ],
      "execution_count": 74,
      "outputs": []
    },
    {
      "cell_type": "code",
      "metadata": {
        "id": "vfIIQjwVbL1Q"
      },
      "source": [
        "boot_pc = bs.bootstrap_ab(test = test_pc, ctrl = control_pc\n",
        "                              , stat_func = bs_stats.mean\n",
        "                              , compare_func = bs_compare.difference\n",
        "                              , return_distribution=True)"
      ],
      "execution_count": 75,
      "outputs": []
    },
    {
      "cell_type": "code",
      "metadata": {
        "id": "EvRqr4YmbL1R"
      },
      "source": [
        "boot_mobile = bs.bootstrap_ab(test = test_mobile, ctrl = control_mobile\n",
        "                              , stat_func = bs_stats.mean\n",
        "                              , compare_func = bs_compare.difference\n",
        "                              , return_distribution=True)"
      ],
      "execution_count": 76,
      "outputs": []
    },
    {
      "cell_type": "markdown",
      "metadata": {
        "id": "48tQjFX3bL1R"
      },
      "source": [
        "**3. Задай размер доверительного интервала для каждого исследуемого сегмента 95% с помощью перцентилей**"
      ]
    },
    {
      "cell_type": "code",
      "metadata": {
        "id": "gCCAbRnfbL1R"
      },
      "source": [
        "borders = np.percentile(boot, [2.5, 97.5]) \n",
        "borders_pc = np.percentile(boot_pc, [2.5, 97.5]) \n",
        "borders_mobile = np.percentile(boot_mobile, [2.5, 97.5])"
      ],
      "execution_count": 77,
      "outputs": []
    },
    {
      "cell_type": "markdown",
      "metadata": {
        "id": "VX-vFjvCbL1S"
      },
      "source": [
        "**4. Оцени, есть ли статистически значимое изменение по среднему чеку в каждом сегменте**\n",
        "\n",
        "   - Построй гистограмму распределения значений среднего чека.\n",
        "   - Выведи границы доверительного интервала линиями.\n",
        "   - Выведи ноль красной линией.\n",
        "   - Оставь комментарий, есть ли статистически значимое изменение по среднему чеку в каждом сегменте.\n",
        "   "
      ]
    },
    {
      "cell_type": "code",
      "metadata": {
        "id": "yrzEZotTbL1S",
        "colab": {
          "base_uri": "https://localhost:8080/",
          "height": 445
        },
        "outputId": "3c646509-1e96-491e-97fe-adba5974aa32"
      },
      "source": [
        "sns.distplot(boot) # функция построения распределения\n",
        "plt.title('Bootstrap-распределение разниц среднего чека')\n",
        "plt.rcParams[\"figure.figsize\"] = (12, 6)\n",
        "plt.vlines(0, # отрисуем линию на уровне ноля\n",
        "           ymin = 0, \n",
        "           ymax = 0.01, \n",
        "           linestyles= '--', \n",
        "           colors = 'red')\n",
        "plt.vlines(borders, # отрисуем перцентили\n",
        "           ymin = 0, \n",
        "           ymax = 0.01, \n",
        "           linestyles= '--', \n",
        "           colors = 'grey', \n",
        "           label = '95%-доверительный интервал')\n",
        "plt.legend()\n",
        "plt.show()"
      ],
      "execution_count": 79,
      "outputs": [
        {
          "output_type": "stream",
          "name": "stderr",
          "text": [
            "/usr/local/lib/python3.7/dist-packages/seaborn/distributions.py:2619: FutureWarning: `distplot` is a deprecated function and will be removed in a future version. Please adapt your code to use either `displot` (a figure-level function with similar flexibility) or `histplot` (an axes-level function for histograms).\n",
            "  warnings.warn(msg, FutureWarning)\n"
          ]
        },
        {
          "output_type": "display_data",
          "data": {
            "image/png": "[encoded data removed]",
            "text/plain": [
              "<Figure size 864x432 with 1 Axes>"
            ]
          },
          "metadata": {
            "needs_background": "light"
          }
        }
      ]
    },
    {
      "cell_type": "code",
      "source": [
        "sns.distplot(boot_pc) # функция построения распределения\n",
        "plt.title('Bootstrap-распределение разниц среднего чека PC')\n",
        "plt.rcParams[\"figure.figsize\"] = (12, 6)\n",
        "plt.vlines(0, # отрисуем линию на уровне ноля\n",
        "           ymin = 0, \n",
        "           ymax = 0.01, \n",
        "           linestyles= '--', \n",
        "           colors = 'red')\n",
        "plt.vlines(borders_pc, # отрисуем перцентили\n",
        "           ymin = 0, \n",
        "           ymax = 0.01, \n",
        "           linestyles= '--', \n",
        "           colors = 'grey', \n",
        "           label = '95%-доверительный интервал')\n",
        "plt.legend()\n",
        "plt.show()"
      ],
      "metadata": {
        "colab": {
          "base_uri": "https://localhost:8080/",
          "height": 445
        },
        "id": "59qfWlA0vW8o",
        "outputId": "da84f600-aa2a-42d7-d99c-193259cece29"
      },
      "execution_count": 80,
      "outputs": [
        {
          "output_type": "stream",
          "name": "stderr",
          "text": [
            "/usr/local/lib/python3.7/dist-packages/seaborn/distributions.py:2619: FutureWarning: `distplot` is a deprecated function and will be removed in a future version. Please adapt your code to use either `displot` (a figure-level function with similar flexibility) or `histplot` (an axes-level function for histograms).\n",
            "  warnings.warn(msg, FutureWarning)\n"
          ]
        },
        {
          "output_type": "display_data",
          "data": {
            "image/png": "[encoded data removed]",
            "text/plain": [
              "<Figure size 864x432 with 1 Axes>"
            ]
          },
          "metadata": {
            "needs_background": "light"
          }
        }
      ]
    },
    {
      "cell_type": "code",
      "source": [
        "sns.distplot(boot_mobile) # функция построения распределения\n",
        "plt.title('Bootstrap-распределение разниц среднего чека PC')\n",
        "plt.rcParams[\"figure.figsize\"] = (12, 6)\n",
        "plt.vlines(0, # отрисуем линию на уровне ноля\n",
        "           ymin = 0, \n",
        "           ymax = 0.01, \n",
        "           linestyles= '--', \n",
        "           colors = 'red')\n",
        "plt.vlines(borders_mobile, # отрисуем перцентили\n",
        "           ymin = 0, \n",
        "           ymax = 0.01, \n",
        "           linestyles= '--', \n",
        "           colors = 'grey', \n",
        "           label = '95%-доверительный интервал')\n",
        "plt.legend()\n",
        "plt.show()"
      ],
      "metadata": {
        "colab": {
          "base_uri": "https://localhost:8080/",
          "height": 445
        },
        "id": "5k6Yo8vovl6B",
        "outputId": "fd63cb26-3aaf-475a-98e1-6dbae07d2927"
      },
      "execution_count": 81,
      "outputs": [
        {
          "output_type": "stream",
          "name": "stderr",
          "text": [
            "/usr/local/lib/python3.7/dist-packages/seaborn/distributions.py:2619: FutureWarning: `distplot` is a deprecated function and will be removed in a future version. Please adapt your code to use either `displot` (a figure-level function with similar flexibility) or `histplot` (an axes-level function for histograms).\n",
            "  warnings.warn(msg, FutureWarning)\n"
          ]
        },
        {
          "output_type": "display_data",
          "data": {
            "image/png": "[encoded data removed]",
            "text/plain": [
              "<Figure size 864x432 with 1 Axes>"
            ]
          },
          "metadata": {
            "needs_background": "light"
          }
        }
      ]
    },
    {
      "cell_type": "markdown",
      "metadata": {
        "id": "feYlEGx_bL1S"
      },
      "source": [
        "## Задание 6. Сделай вывод по результатам проведенного теста (заданий 2–5)\n",
        "\n",
        "Нужно ли внедрять изменение каталога? Почему?"
      ]
    },
    {
      "cell_type": "markdown",
      "metadata": {
        "id": "L3mfyEI4bL1S"
      },
      "source": [
        "# 🎉🎉🎉 Поздравляем, ты великолепен! "
      ]
    }
  ]
}